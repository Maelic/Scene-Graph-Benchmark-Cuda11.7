{
 "cells": [
  {
   "cell_type": "code",
   "execution_count": 1,
   "metadata": {},
   "outputs": [
    {
     "name": "stderr",
     "output_type": "stream",
     "text": [
      "/home/maelic/miniconda3/envs/phd/lib/python3.11/site-packages/tqdm/auto.py:21: TqdmWarning: IProgress not found. Please update jupyter and ipywidgets. See https://ipywidgets.readthedocs.io/en/stable/user_install.html\n",
      "  from .autonotebook import tqdm as notebook_tqdm\n"
     ]
    }
   ],
   "source": [
    "dataset_path = \"/home/maelic/Documents/PhD/MyModel/PhD_Commonsense_Enrichment/VG_refinement/data_tools/IndoorVG_4/YOLO_anno\"\n",
    "yaml_path = \"/home/maelic/Documents/PhD/MyModel/PhD_Commonsense_Enrichment/VG_refinement/data_tools/IndoorVG_4/YOLO_anno/train.yaml\"\n",
    "\n",
    "model_path = \"/home/maelic/Documents/PhD/MyModel/Scene-Graph-Benchmark-Cuda11.7/process_data/yolov8l_indoorvg4.pt\"\n",
    "\n",
    "import os\n",
    "from ultralytics import YOLO\n",
    "import torch\n",
    "\n",
    "# load model\n",
    "model = YOLO(model_path)\n",
    "\n",
    "from ultralytics.cfg import get_cfg\n",
    "\n",
    "cfg = get_cfg()\n",
    "\n",
    "# load train data\n",
    "# load yaml\n",
    "from ultralytics.utils import yaml_load\n",
    "from ultralytics.data import build_dataloader, build_yolo_dataset\n",
    "\n",
    "data = yaml_load(yaml_path)\n",
    "\n",
    "# loda dataset\n",
    "from ultralytics.data import YOLODataset\n",
    "\n",
    "# load dataset\n",
    "splits = [data['train'], data['val'], data['test']]\n",
    "\n",
    "split = splits[0]\n",
    "img_dir = os.path.join(split, 'images')\n",
    "dataset = build_yolo_dataset(cfg, img_dir, 1, data)"
   ]
  },
  {
   "cell_type": "code",
   "execution_count": 2,
   "metadata": {},
   "outputs": [
    {
     "name": "stderr",
     "output_type": "stream",
     "text": [
      "\u001b[34m\u001b[1mtrain: \u001b[0mScanning /home/maelic/Documents/PhD/MyModel/PhD_Commonsense_Enrichment/VG_refinement/data_tools/IndoorVG_4/YOLO_anno/train/labels.cache... 11739 images, 0 backgrounds, 0 corrupt: 100%|██████████| 11739/11739 [00:00<?, ?it/s]\n"
     ]
    },
    {
     "name": "stdout",
     "output_type": "stream",
     "text": [
      "\u001b[34m\u001b[1malbumentations: \u001b[0mBlur(p=0.01, blur_limit=(3, 7)), MedianBlur(p=0.01, blur_limit=(3, 7)), ToGray(p=0.01), CLAHE(p=0.01, clip_limit=(1, 4.0), tile_grid_size=(8, 8))\n",
      "<ultralytics.data.dataset.YOLODataset object at 0x7f45027cc2d0>\n"
     ]
    }
   ],
   "source": [
    "# load train data\n",
    "# load yaml\n",
    "from ultralytics.utils import yaml_load\n",
    "from ultralytics.data import build_dataloader, build_yolo_dataset\n",
    "\n",
    "data = yaml_load(yaml_path)\n",
    "\n",
    "# loda dataset\n",
    "from ultralytics.data import YOLODataset\n",
    "\n",
    "# load dataset\n",
    "splits = [data['train'], data['val'], data['test']]\n",
    "\n",
    "split = splits[0]\n",
    "img_dir = os.path.join(split, 'images')\n",
    "dataset = build_yolo_dataset(cfg, img_dir, 1, data)\n",
    "\n",
    "print(dataset)\n"
   ]
  },
  {
   "cell_type": "markdown",
   "metadata": {},
   "source": [
    "# Utils"
   ]
  },
  {
   "cell_type": "code",
   "execution_count": 4,
   "metadata": {},
   "outputs": [],
   "source": [
    "new_dataset_path = dataset_path.strip().replace('YOLO_anno', 'YOLO_anno_2')\n",
    "# create dir\n",
    "os.makedirs(new_dataset_path, exist_ok=True)"
   ]
  },
  {
   "cell_type": "code",
   "execution_count": 6,
   "metadata": {},
   "outputs": [
    {
     "name": "stderr",
     "output_type": "stream",
     "text": [
      "100%|██████████| 11739/11739 [08:18<00:00, 23.56it/s]"
     ]
    },
    {
     "name": "stdout",
     "output_type": "stream",
     "text": [
      "Total new objects added: 41194\n"
     ]
    },
    {
     "name": "stderr",
     "output_type": "stream",
     "text": [
      "\n"
     ]
    }
   ],
   "source": [
    "from utils import bbox_iou\n",
    "from tqdm import tqdm\n",
    "\n",
    "iou_thres = 0.5\n",
    "conf_thres = 0.5\n",
    "\n",
    "dest_anno_path = new_dataset_path + '/train/labels'\n",
    "# mkdir\n",
    "if not os.path.exists(dest_anno_path):\n",
    "    os.makedirs(dest_anno_path)\n",
    "\n",
    "num_total = 0\n",
    "\n",
    "# run model on dataset\n",
    "for i, img in enumerate(tqdm(dataset)):\n",
    "    # get img name\n",
    "    img_name = img['im_file'].split('/')[-1].split('.')[0]\n",
    "    # get anno file\n",
    "    anno_file = dataset.label_files[i]\n",
    "    # read anno file\n",
    "    with open(anno_file, 'r') as f:\n",
    "        anno = f.readlines()\n",
    "    # get gt boxes\n",
    "    gt_boxes = img['bboxes'].cuda()\n",
    "\n",
    "    # forward pass\n",
    "    results = model(img['im_file'], verbose=False)\n",
    "\n",
    "    # iou on gt boxes and predictions\n",
    "    for i, box in enumerate(results[0].boxes):\n",
    "        iou = bbox_iou(box.xyxy, gt_boxes, xywh=True)\n",
    "\n",
    "        if all(iou < iou_thres):\n",
    "            # the box is a candidate for a new object\n",
    "            if box.conf > conf_thres:\n",
    "                # add to anno\n",
    "                bbox = box.xyxyn[0]\n",
    "                anno.append(f\"{int(box.cls.item())} {bbox[0]} {bbox[1]} {bbox[2]} {bbox[3]}\\n\")\n",
    "                num_total += 1\n",
    "\n",
    "    # write out to dest_anno_path\n",
    "    with open(dest_anno_path + f'/{img_name}.txt', 'w') as f:\n",
    "        f.writelines(anno)\n",
    "\n",
    "print(f\"Total new objects added: {num_total}\")"
   ]
  },
  {
   "cell_type": "code",
   "execution_count": 3,
   "metadata": {},
   "outputs": [
    {
     "name": "stdout",
     "output_type": "stream",
     "text": [
      "Ultralytics YOLOv8.1.31 🚀 Python-3.11.5 torch-2.2.0+cu121 CUDA:0 (NVIDIA GeForce RTX 3080 Laptop GPU, 16117MiB)\n",
      "\u001b[34m\u001b[1mengine/trainer: \u001b[0mtask=detect, mode=train, model=/home/maelic/Documents/PhD/MyModel/Scene-Graph-Benchmark-Cuda11.7/process_data/yolov8l_indoorvg4.pt, data=/home/maelic/Documents/PhD/MyModel/PhD_Commonsense_Enrichment/VG_refinement/data_tools/IndoorVG_4/YOLO_anno_2/train.yaml, epochs=10, time=None, patience=100, batch=16, imgsz=640, save=True, save_period=-1, cache=False, device=None, workers=8, project=indoorvg4_benchmark, name=yolov8l_finetune, exist_ok=True, pretrained=True, optimizer=auto, verbose=True, seed=0, deterministic=True, single_cls=False, rect=False, cos_lr=False, close_mosaic=10, resume=False, amp=True, fraction=1.0, profile=False, freeze=None, multi_scale=False, overlap_mask=True, mask_ratio=4, dropout=0.0, val=True, split=val, save_json=False, save_hybrid=False, conf=None, iou=0.7, max_det=300, half=False, dnn=False, plots=True, source=None, vid_stride=1, stream_buffer=False, visualize=False, augment=False, agnostic_nms=False, classes=None, retina_masks=False, embed=None, show=False, save_frames=False, save_txt=False, save_conf=False, save_crop=False, show_labels=True, show_conf=True, show_boxes=True, line_width=None, format=torchscript, keras=False, optimize=False, int8=False, dynamic=False, simplify=False, opset=None, workspace=4, nms=False, lr0=0.01, lrf=0.01, momentum=0.937, weight_decay=0.0005, warmup_epochs=3.0, warmup_momentum=0.8, warmup_bias_lr=0.1, box=7.5, cls=0.5, dfl=1.5, pose=12.0, kobj=1.0, label_smoothing=0.0, nbs=64, hsv_h=0.015, hsv_s=0.7, hsv_v=0.4, degrees=0.0, translate=0.1, scale=0.5, shear=0.0, perspective=0.0, flipud=0.0, fliplr=0.5, mosaic=1.0, mixup=0.0, copy_paste=0.0, auto_augment=randaugment, erasing=0.4, crop_fraction=1.0, cfg=None, tracker=botsort.yaml, save_dir=indoorvg4_benchmark/yolov8l_finetune\n"
     ]
    },
    {
     "name": "stderr",
     "output_type": "stream",
     "text": [
      "2024-03-29 16:28:19,090\tINFO util.py:154 -- Missing packages: ['ipywidgets']. Run `pip install -U ipywidgets`, then restart the notebook server for rich notebook output.\n",
      "2024-03-29 16:28:19,281\tINFO util.py:154 -- Missing packages: ['ipywidgets']. Run `pip install -U ipywidgets`, then restart the notebook server for rich notebook output.\n"
     ]
    },
    {
     "name": "stdout",
     "output_type": "stream",
     "text": [
      "\n",
      "                   from  n    params  module                                       arguments                     \n",
      "  0                  -1  1      1856  ultralytics.nn.modules.conv.Conv             [3, 64, 3, 2]                 \n",
      "  1                  -1  1     73984  ultralytics.nn.modules.conv.Conv             [64, 128, 3, 2]               \n",
      "  2                  -1  3    279808  ultralytics.nn.modules.block.C2f             [128, 128, 3, True]           \n",
      "  3                  -1  1    295424  ultralytics.nn.modules.conv.Conv             [128, 256, 3, 2]              \n",
      "  4                  -1  6   2101248  ultralytics.nn.modules.block.C2f             [256, 256, 6, True]           \n",
      "  5                  -1  1   1180672  ultralytics.nn.modules.conv.Conv             [256, 512, 3, 2]              \n",
      "  6                  -1  6   8396800  ultralytics.nn.modules.block.C2f             [512, 512, 6, True]           \n",
      "  7                  -1  1   2360320  ultralytics.nn.modules.conv.Conv             [512, 512, 3, 2]              \n",
      "  8                  -1  3   4461568  ultralytics.nn.modules.block.C2f             [512, 512, 3, True]           \n",
      "  9                  -1  1    656896  ultralytics.nn.modules.block.SPPF            [512, 512, 5]                 \n",
      " 10                  -1  1         0  torch.nn.modules.upsampling.Upsample         [None, 2, 'nearest']          \n",
      " 11             [-1, 6]  1         0  ultralytics.nn.modules.conv.Concat           [1]                           \n",
      " 12                  -1  3   4723712  ultralytics.nn.modules.block.C2f             [1024, 512, 3]                \n",
      " 13                  -1  1         0  torch.nn.modules.upsampling.Upsample         [None, 2, 'nearest']          \n",
      " 14             [-1, 4]  1         0  ultralytics.nn.modules.conv.Concat           [1]                           \n",
      " 15                  -1  3   1247744  ultralytics.nn.modules.block.C2f             [768, 256, 3]                 \n",
      " 16                  -1  1    590336  ultralytics.nn.modules.conv.Conv             [256, 256, 3, 2]              \n",
      " 17            [-1, 12]  1         0  ultralytics.nn.modules.conv.Concat           [1]                           \n",
      " 18                  -1  3   4592640  ultralytics.nn.modules.block.C2f             [768, 512, 3]                 \n",
      " 19                  -1  1   2360320  ultralytics.nn.modules.conv.Conv             [512, 512, 3, 2]              \n",
      " 20             [-1, 9]  1         0  ultralytics.nn.modules.conv.Concat           [1]                           \n",
      " 21                  -1  3   4723712  ultralytics.nn.modules.block.C2f             [1024, 512, 3]                \n",
      " 22        [15, 18, 21]  1   5647564  ultralytics.nn.modules.head.Detect           [84, [256, 512, 512]]         \n",
      "Model summary: 365 layers, 43694604 parameters, 43694588 gradients, 165.8 GFLOPs\n",
      "\n",
      "Transferred 595/595 items from pretrained weights\n",
      "\u001b[34m\u001b[1mTensorBoard: \u001b[0mStart with 'tensorboard --logdir indoorvg4_benchmark/yolov8l_finetune', view at http://localhost:6006/\n"
     ]
    },
    {
     "name": "stderr",
     "output_type": "stream",
     "text": [
      "Failed to detect the name of this notebook, you can set it manually with the WANDB_NOTEBOOK_NAME environment variable to enable code saving.\n",
      "\u001b[34m\u001b[1mwandb\u001b[0m: Currently logged in as: \u001b[33mmaelic\u001b[0m. Use \u001b[1m`wandb login --relogin`\u001b[0m to force relogin\n"
     ]
    },
    {
     "data": {
      "text/html": [
       "Tracking run with wandb version 0.16.5"
      ],
      "text/plain": [
       "<IPython.core.display.HTML object>"
      ]
     },
     "metadata": {},
     "output_type": "display_data"
    },
    {
     "data": {
      "text/html": [
       "Run data is saved locally in <code>/home/maelic/Documents/PhD/MyModel/Scene-Graph-Benchmark-Cuda11.7/process_data/wandb/run-20240329_162821-h23xofk3</code>"
      ],
      "text/plain": [
       "<IPython.core.display.HTML object>"
      ]
     },
     "metadata": {},
     "output_type": "display_data"
    },
    {
     "data": {
      "text/html": [
       "Syncing run <strong><a href='https://wandb.ai/maelic/indoorvg4_benchmark/runs/h23xofk3/workspace' target=\"_blank\">yolov8l_finetune</a></strong> to <a href='https://wandb.ai/maelic/indoorvg4_benchmark' target=\"_blank\">Weights & Biases</a> (<a href='https://wandb.me/run' target=\"_blank\">docs</a>)<br/>"
      ],
      "text/plain": [
       "<IPython.core.display.HTML object>"
      ]
     },
     "metadata": {},
     "output_type": "display_data"
    },
    {
     "data": {
      "text/html": [
       " View project at <a href='https://wandb.ai/maelic/indoorvg4_benchmark' target=\"_blank\">https://wandb.ai/maelic/indoorvg4_benchmark</a>"
      ],
      "text/plain": [
       "<IPython.core.display.HTML object>"
      ]
     },
     "metadata": {},
     "output_type": "display_data"
    },
    {
     "data": {
      "text/html": [
       " View run at <a href='https://wandb.ai/maelic/indoorvg4_benchmark/runs/h23xofk3/workspace' target=\"_blank\">https://wandb.ai/maelic/indoorvg4_benchmark/runs/h23xofk3/workspace</a>"
      ],
      "text/plain": [
       "<IPython.core.display.HTML object>"
      ]
     },
     "metadata": {},
     "output_type": "display_data"
    },
    {
     "name": "stdout",
     "output_type": "stream",
     "text": [
      "Freezing layer 'model.22.dfl.conv.weight'\n",
      "\u001b[34m\u001b[1mAMP: \u001b[0mrunning Automatic Mixed Precision (AMP) checks with YOLOv8n...\n",
      "\u001b[34m\u001b[1mAMP: \u001b[0mchecks passed ✅\n"
     ]
    },
    {
     "name": "stderr",
     "output_type": "stream",
     "text": [
      "\u001b[34m\u001b[1mtrain: \u001b[0mScanning /home/maelic/Documents/PhD/MyModel/PhD_Commonsense_Enrichment/VG_refinement/data_tools/IndoorVG_4/YOLO_anno_2/train/labels.cache... 11739 images, 0 backgrounds, 0 corrupt: 100%|██████████| 11739/11739 [00:00<?, ?it/s]"
     ]
    },
    {
     "name": "stdout",
     "output_type": "stream",
     "text": [
      "\u001b[34m\u001b[1malbumentations: \u001b[0mBlur(p=0.01, blur_limit=(3, 7)), MedianBlur(p=0.01, blur_limit=(3, 7)), ToGray(p=0.01), CLAHE(p=0.01, clip_limit=(1, 4.0), tile_grid_size=(8, 8))\n"
     ]
    },
    {
     "name": "stderr",
     "output_type": "stream",
     "text": [
      "\n",
      "\u001b[34m\u001b[1mval: \u001b[0mScanning /home/maelic/Documents/PhD/MyModel/PhD_Commonsense_Enrichment/VG_refinement/data_tools/IndoorVG_4/YOLO_anno/val/labels.cache... 2935 images, 0 backgrounds, 0 corrupt: 100%|██████████| 2935/2935 [00:00<?, ?it/s]"
     ]
    },
    {
     "name": "stdout",
     "output_type": "stream",
     "text": [
      "\u001b[34m\u001b[1mval: \u001b[0mWARNING ⚠️ /home/maelic/Documents/PhD/MyModel/PhD_Commonsense_Enrichment/VG_refinement/data_tools/IndoorVG_4/YOLO_anno/val/images/285776.jpg: 1 duplicate labels removed\n"
     ]
    },
    {
     "name": "stderr",
     "output_type": "stream",
     "text": [
      "\n"
     ]
    },
    {
     "name": "stdout",
     "output_type": "stream",
     "text": [
      "Plotting labels to indoorvg4_benchmark/yolov8l_finetune/labels.jpg... \n",
      "\u001b[34m\u001b[1moptimizer:\u001b[0m 'optimizer=auto' found, ignoring 'lr0=0.01' and 'momentum=0.937' and determining best 'optimizer', 'lr0' and 'momentum' automatically... \n",
      "\u001b[34m\u001b[1moptimizer:\u001b[0m AdamW(lr=0.000114, momentum=0.9) with parameter groups 97 weight(decay=0.0), 104 weight(decay=0.0005), 103 bias(decay=0.0)\n",
      "\u001b[34m\u001b[1mTensorBoard: \u001b[0mmodel graph visualization added ✅\n",
      "Image sizes 640 train, 640 val\n",
      "Using 8 dataloader workers\n",
      "Logging results to \u001b[1mindoorvg4_benchmark/yolov8l_finetune\u001b[0m\n",
      "Starting training for 10 epochs...\n",
      "Closing dataloader mosaic\n",
      "\u001b[34m\u001b[1malbumentations: \u001b[0mBlur(p=0.01, blur_limit=(3, 7)), MedianBlur(p=0.01, blur_limit=(3, 7)), ToGray(p=0.01), CLAHE(p=0.01, clip_limit=(1, 4.0), tile_grid_size=(8, 8))\n",
      "\n",
      "      Epoch    GPU_mem   box_loss   cls_loss   dfl_loss  Instances       Size\n"
     ]
    },
    {
     "name": "stderr",
     "output_type": "stream",
     "text": [
      "       1/10        11G      1.497      1.936      1.819        197        640: 100%|██████████| 734/734 [07:54<00:00,  1.55it/s]\n",
      "                 Class     Images  Instances      Box(P          R      mAP50  mAP50-95): 100%|██████████| 92/92 [00:34<00:00,  2.66it/s]\n"
     ]
    },
    {
     "name": "stdout",
     "output_type": "stream",
     "text": [
      "                   all       2935      39720      0.459      0.426        0.4      0.237\n"
     ]
    }
   ],
   "source": [
    "# Fine-tune the model with new data\n",
    "\n",
    "from ultralytics import YOLO\n",
    "\n",
    "# Train the model\n",
    "results = model.train(data='/home/maelic/Documents/PhD/MyModel/PhD_Commonsense_Enrichment/VG_refinement/data_tools/IndoorVG_4/YOLO_anno_2/train.yaml', epochs=10, batch=16, imgsz=640, project='indoorvg4_benchmark', name='yolov8l_finetune', exist_ok=True)"
   ]
  }
 ],
 "metadata": {
  "kernelspec": {
   "display_name": "phd",
   "language": "python",
   "name": "python3"
  },
  "language_info": {
   "codemirror_mode": {
    "name": "ipython",
    "version": 3
   },
   "file_extension": ".py",
   "mimetype": "text/x-python",
   "name": "python",
   "nbconvert_exporter": "python",
   "pygments_lexer": "ipython3",
   "version": "3.11.5"
  }
 },
 "nbformat": 4,
 "nbformat_minor": 2
}
