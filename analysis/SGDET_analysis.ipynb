{
 "cells": [
  {
   "cell_type": "code",
   "execution_count": 1,
   "metadata": {},
   "outputs": [],
   "source": [
    "import torch\n",
    "import json\n",
    "import numpy as np\n",
    "import pandas as pd\n",
    "from tqdm import tqdm\n",
    "import os, h5py\n",
    "\n",
    "from utils import generate_detect_sg, generate_gt_sg\n",
    "from sgg_benchmark.config.paths_catalog import DatasetCatalog"
   ]
  },
  {
   "cell_type": "code",
   "execution_count": 2,
   "metadata": {},
   "outputs": [],
   "source": [
    "path = \"/home/maelic/Documents/Scene-Graph-Benchmark-Cuda11.7/datasets/VG150/curated/VG-SGG-with-attri.h5\"\n",
    "# load with h5py\n",
    "data = h5py.File(path, 'r')"
   ]
  },
  {
   "cell_type": "code",
   "execution_count": 4,
   "metadata": {},
   "outputs": [
    {
     "name": "stdout",
     "output_type": "stream",
     "text": [
      "<HDF5 dataset \"attributes\": shape (1441984, 10), type \"<i8\">\n"
     ]
    }
   ],
   "source": [
    "print(data['attributes'])"
   ]
  },
  {
   "cell_type": "code",
   "execution_count": null,
   "metadata": {},
   "outputs": [],
   "source": [
    "file_path = '/home/maelic/Documents/PhD/Datasets/GQA/sceneGraphs/train_sceneGraphs.json'\n",
    "gqa = json.load(open(file_path, 'r'))"
   ]
  },
  {
   "cell_type": "code",
   "execution_count": null,
   "metadata": {},
   "outputs": [],
   "source": [
    "print(gqa['2386622'])"
   ]
  },
  {
   "attachments": {},
   "cell_type": "markdown",
   "metadata": {},
   "source": [
    "# Run Evaluation for test or train split"
   ]
  },
  {
   "cell_type": "code",
   "execution_count": null,
   "metadata": {},
   "outputs": [],
   "source": [
    "BASE_PATH=\"/home/maelic/Documents/Scene-Graph-Benchmark-Cuda11.7/\"\n",
    "SGDET_DIR=BASE_PATH+\"checkpoints/VG150/baseline/upload_causal_motif_sgdet\"\n",
    "FASTER_RCNN_DIR=BASE_PATH+\"checkpoints/VG150/curated/pretrained_faster_rcnn/model_final.pth\"\n",
    "GLOVE_DIR=\"/home/maelic/glove\"\n",
    "EVAL_TYPE=\"test\"\n",
    "CONFIG=\"configs/VG150/curated/e2e_relation_X_101_32_8_FPN_1x.yaml\"\n",
    "DATASET=\"VG_stanford_filtered_with_attribute\"\n",
    "TASK=\"sgdet\""
   ]
  },
  {
   "cell_type": "code",
   "execution_count": null,
   "metadata": {},
   "outputs": [],
   "source": [
    "stats = json.load(open('/home/maelic/Documents/PhD/MyModel/Scene-Graph-Benchmark-Cuda11.7/analysis/sg_statistics.json'))"
   ]
  },
  {
   "cell_type": "code",
   "execution_count": null,
   "metadata": {},
   "outputs": [],
   "source": [
    "#!cd .. && pwd && CUDA_VISIBLE_DEVICES=0 python tools/relation_test_net.py --config-file $CONFIG --task  --verbose MODEL.ROI_RELATION_HEAD.PREDICTOR CausalAnalysisPredictor MODEL.ROI_RELATION_HEAD.CAUSAL.EFFECT_TYPE TDE MODEL.ROI_RELATION_HEAD.CAUSAL.FUSION_TYPE sum MODEL.ROI_RELATION_HEAD.CAUSAL.CONTEXT_LAYER motifs  SOLVER.IMS_PER_BATCH 32 TEST.IMS_PER_BATCH 1 DTYPE \"float16\" SOLVER.MAX_ITER 30000 SOLVER.VAL_PERIOD 2000 SOLVER.CHECKPOINT_PERIOD 2000 SOLVER.PRE_VAL False GLOVE_DIR $GLOVE_DIR MODEL.PRETRAINED_DETECTOR_CKPT $FASTER_RCNN_DIR OUTPUT_DIR $SGDET_DIR DATASETS.TO_TEST $EVAL_TYPE"
   ]
  },
  {
   "cell_type": "code",
   "execution_count": null,
   "metadata": {},
   "outputs": [],
   "source": [
    "!CUDA_VISIBLE_DEVICES=0 python tools/relation_test_net.py --config-file \"configs/VG150/curated/e2e_relation_X_101_32_8_FPN_1x.yaml\" --task \"sgdet\" --verbose MODEL.ROI_RELATION_HEAD.PREDICTOR CausalAnalysisPredictor MODEL.ROI_RELATION_HEAD.CAUSAL.EFFECT_TYPE TDE MODEL.ROI_RELATION_HEAD.CAUSAL.FUSION_TYPE sum MODEL.ROI_RELATION_HEAD.CAUSAL.CONTEXT_LAYER vctree SOLVER.IMS_PER_BATCH 32 TEST.IMS_PER_BATCH 12 DTYPE \"float16\" SOLVER.MAX_ITER 30000 SOLVER.VAL_PERIOD 2000 SOLVER.CHECKPOINT_PERIOD 2000 SOLVER.PRE_VAL False GLOVE_DIR /home/maelic/glove MODEL.PRETRAINED_DETECTOR_CKPT /home/maelic/Documents/Scene-Graph-Benchmark-Cuda11.7/checkpoints/VG150/curated/pretrained_faster_rcnn/model_final.pth OUTPUT_DIR /home/maelic/Documents/Scene-Graph-Benchmark-Cuda11.7/checkpoints/VG150/curated/sgdet_vctree_tde DATASETS.TO_TEST train"
   ]
  },
  {
   "cell_type": "code",
   "execution_count": 3,
   "metadata": {},
   "outputs": [],
   "source": [
    "result_path = SGDET_DIR + '/inference/' + DATASET +'_' + EVAL_TYPE + '/' \n",
    "info_dict = json.load(open(result_path + 'visual_info.json'))\n",
    "detected_result = torch.load(result_path+'eval_results.pytorch')\n",
    "result_dict = torch.load(result_path + 'result_dict.pytorch')\n",
    "vg_dict = json.load(open(DatasetCatalog.DATASETS[DATASET]['dict_file']))\n",
    "vg_data = h5py.File(DatasetCatalog.DATASETS[DATASET]['roidb_file'], 'r')"
   ]
  },
  {
   "cell_type": "code",
   "execution_count": 4,
   "metadata": {},
   "outputs": [
    {
     "name": "stderr",
     "output_type": "stream",
     "text": [
      "Generating scene graphs : 100%|██████████| 5001/5001 [07:18<00:00, 11.41it/s]"
     ]
    },
    {
     "name": "stdout",
     "output_type": "stream",
     "text": [
      "Number of total relations predicted:  232672\n"
     ]
    },
    {
     "name": "stderr",
     "output_type": "stream",
     "text": [
      "\n"
     ]
    }
   ],
   "source": [
    "output_scene_graphs = generate_detect_sg(detected_result, info_dict, vg_dict, 0.3)\n",
    "pred = [len(pred[0]['relations']) for i, pred in enumerate(output_scene_graphs.values())]\n",
    "print(\"Number of total relations predicted: \", sum(pred))"
   ]
  },
  {
   "cell_type": "code",
   "execution_count": null,
   "metadata": {},
   "outputs": [],
   "source": [
    "pred = [len(pred[0]['relations']) for i, pred in enumerate(output_scene_graphs.values())]\n",
    "print(sum(pred))"
   ]
  },
  {
   "cell_type": "code",
   "execution_count": 12,
   "metadata": {},
   "outputs": [
    {
     "name": "stderr",
     "output_type": "stream",
     "text": [
      "100%|██████████| 5001/5001 [00:00<00:00, 52449.64it/s]"
     ]
    },
    {
     "name": "stdout",
     "output_type": "stream",
     "text": [
      "3765\n",
      "5001\n"
     ]
    },
    {
     "name": "stderr",
     "output_type": "stream",
     "text": [
      "\n"
     ]
    }
   ],
   "source": [
    "input_scene_graphs = generate_gt_sg(vg_data, vg_dict, info_dict)\n",
    "print(len(input_scene_graphs))\n",
    "print(len([os.path.basename(img['img_file']).strip('.jpg') for img in info_dict]))"
   ]
  },
  {
   "attachments": {},
   "cell_type": "markdown",
   "metadata": {},
   "source": [
    "## Compute frequency"
   ]
  },
  {
   "cell_type": "code",
   "execution_count": 13,
   "metadata": {},
   "outputs": [
    {
     "name": "stdout",
     "output_type": "stream",
     "text": [
      "Ranking of triplets in the input scene graphs\n"
     ]
    },
    {
     "name": "stderr",
     "output_type": "stream",
     "text": [
      "100%|██████████| 3765/3765 [00:00<00:00, 316223.21it/s]"
     ]
    },
    {
     "name": "stdout",
     "output_type": "stream",
     "text": [
      "Total number of triplets in the input scene graphs:  25259\n"
     ]
    },
    {
     "name": "stderr",
     "output_type": "stream",
     "text": [
      "\n"
     ]
    },
    {
     "data": {
      "text/html": [
       "<div>\n",
       "<style scoped>\n",
       "    .dataframe tbody tr th:only-of-type {\n",
       "        vertical-align: middle;\n",
       "    }\n",
       "\n",
       "    .dataframe tbody tr th {\n",
       "        vertical-align: top;\n",
       "    }\n",
       "\n",
       "    .dataframe thead th {\n",
       "        text-align: right;\n",
       "    }\n",
       "</style>\n",
       "<table border=\"1\" class=\"dataframe\">\n",
       "  <thead>\n",
       "    <tr style=\"text-align: right;\">\n",
       "      <th></th>\n",
       "      <th>Triplet</th>\n",
       "      <th>Count</th>\n",
       "    </tr>\n",
       "  </thead>\n",
       "  <tbody>\n",
       "    <tr>\n",
       "      <th>3365</th>\n",
       "      <td>window-on-building</td>\n",
       "      <td>4597</td>\n",
       "    </tr>\n",
       "    <tr>\n",
       "      <th>579</th>\n",
       "      <td>car-on-street</td>\n",
       "      <td>797</td>\n",
       "    </tr>\n",
       "    <tr>\n",
       "      <th>426</th>\n",
       "      <td>building-has-window</td>\n",
       "      <td>758</td>\n",
       "    </tr>\n",
       "    <tr>\n",
       "      <th>1508</th>\n",
       "      <td>leaf-on-tree</td>\n",
       "      <td>469</td>\n",
       "    </tr>\n",
       "    <tr>\n",
       "      <th>1831</th>\n",
       "      <td>man-wearing-shirt</td>\n",
       "      <td>286</td>\n",
       "    </tr>\n",
       "    <tr>\n",
       "      <th>2216</th>\n",
       "      <td>pillow-on-bed</td>\n",
       "      <td>221</td>\n",
       "    </tr>\n",
       "    <tr>\n",
       "      <th>3370</th>\n",
       "      <td>window-on-house</td>\n",
       "      <td>206</td>\n",
       "    </tr>\n",
       "    <tr>\n",
       "      <th>1624</th>\n",
       "      <td>light-on-pole</td>\n",
       "      <td>202</td>\n",
       "    </tr>\n",
       "    <tr>\n",
       "      <th>2968</th>\n",
       "      <td>tire-on-car</td>\n",
       "      <td>201</td>\n",
       "    </tr>\n",
       "    <tr>\n",
       "      <th>239</th>\n",
       "      <td>book-on-shelf</td>\n",
       "      <td>200</td>\n",
       "    </tr>\n",
       "  </tbody>\n",
       "</table>\n",
       "</div>"
      ],
      "text/plain": [
       "                  Triplet  Count\n",
       "3365   window-on-building   4597\n",
       "579         car-on-street    797\n",
       "426   building-has-window    758\n",
       "1508         leaf-on-tree    469\n",
       "1831    man-wearing-shirt    286\n",
       "2216        pillow-on-bed    221\n",
       "3370      window-on-house    206\n",
       "1624        light-on-pole    202\n",
       "2968          tire-on-car    201\n",
       "239         book-on-shelf    200"
      ]
     },
     "execution_count": 13,
     "metadata": {},
     "output_type": "execute_result"
    }
   ],
   "source": [
    "def gt_triplets(input_scene_graphs):\n",
    "    triplets = []\n",
    "    for graph in tqdm(input_scene_graphs.values()):\n",
    "        for r in graph[0]['relations']:\n",
    "            rel = graph[0]['entities'][r[0]]+'-'+vg_dict['idx_to_predicate'][str(r[2])]+'-'+graph[0]['entities'][r[1]]\n",
    "            triplets.append(rel)\n",
    "    df = pd.DataFrame(triplets, columns =['Triplet'])\n",
    "    # count triplet occurences\n",
    "    df = df.groupby('Triplet').size().reset_index(name='Count')\n",
    "    # sort by count\n",
    "    df = df.sort_values(by=['Count'], ascending=False)\n",
    "    return df\n",
    "print(\"Ranking of triplets in the input scene graphs\")\n",
    "gt_freq = gt_triplets(input_scene_graphs)\n",
    "print(\"Total number of triplets in the input scene graphs: \", gt_freq['Count'].sum())\n",
    "gt_freq.head(10)\n",
    "# total number of triplets\n"
   ]
  },
  {
   "cell_type": "code",
   "execution_count": 10,
   "metadata": {},
   "outputs": [
    {
     "name": "stdout",
     "output_type": "stream",
     "text": [
      "Ranking of triplets in the input scene graphs\n"
     ]
    },
    {
     "name": "stderr",
     "output_type": "stream",
     "text": [
      "100%|██████████| 5001/5001 [00:00<00:00, 99468.48it/s]"
     ]
    },
    {
     "name": "stdout",
     "output_type": "stream",
     "text": [
      "Total number of triplets in the input scene graphs:  232672\n"
     ]
    },
    {
     "name": "stderr",
     "output_type": "stream",
     "text": [
      "\n"
     ]
    },
    {
     "data": {
      "text/html": [
       "<div>\n",
       "<style scoped>\n",
       "    .dataframe tbody tr th:only-of-type {\n",
       "        vertical-align: middle;\n",
       "    }\n",
       "\n",
       "    .dataframe tbody tr th {\n",
       "        vertical-align: top;\n",
       "    }\n",
       "\n",
       "    .dataframe thead th {\n",
       "        text-align: right;\n",
       "    }\n",
       "</style>\n",
       "<table border=\"1\" class=\"dataframe\">\n",
       "  <thead>\n",
       "    <tr style=\"text-align: right;\">\n",
       "      <th></th>\n",
       "      <th>Triplet</th>\n",
       "      <th>Count</th>\n",
       "    </tr>\n",
       "  </thead>\n",
       "  <tbody>\n",
       "    <tr>\n",
       "      <th>10967</th>\n",
       "      <td>man-wearing-shirt</td>\n",
       "      <td>3522</td>\n",
       "    </tr>\n",
       "    <tr>\n",
       "      <th>10906</th>\n",
       "      <td>man-watching-man</td>\n",
       "      <td>3320</td>\n",
       "    </tr>\n",
       "    <tr>\n",
       "      <th>15141</th>\n",
       "      <td>shirt-on-man</td>\n",
       "      <td>1674</td>\n",
       "    </tr>\n",
       "    <tr>\n",
       "      <th>20201</th>\n",
       "      <td>woman-wearing-shirt</td>\n",
       "      <td>1208</td>\n",
       "    </tr>\n",
       "    <tr>\n",
       "      <th>10963</th>\n",
       "      <td>man-wearing-pant</td>\n",
       "      <td>1139</td>\n",
       "    </tr>\n",
       "    <tr>\n",
       "      <th>14778</th>\n",
       "      <td>sheep-looking at-sheep</td>\n",
       "      <td>1132</td>\n",
       "    </tr>\n",
       "    <tr>\n",
       "      <th>10968</th>\n",
       "      <td>man-wearing-shoe</td>\n",
       "      <td>1000</td>\n",
       "    </tr>\n",
       "    <tr>\n",
       "      <th>20155</th>\n",
       "      <td>woman-watching-man</td>\n",
       "      <td>976</td>\n",
       "    </tr>\n",
       "    <tr>\n",
       "      <th>1555</th>\n",
       "      <td>bird-looking at-bird</td>\n",
       "      <td>974</td>\n",
       "    </tr>\n",
       "    <tr>\n",
       "      <th>10938</th>\n",
       "      <td>man-watching-woman</td>\n",
       "      <td>958</td>\n",
       "    </tr>\n",
       "  </tbody>\n",
       "</table>\n",
       "</div>"
      ],
      "text/plain": [
       "                      Triplet  Count\n",
       "10967       man-wearing-shirt   3522\n",
       "10906        man-watching-man   3320\n",
       "15141            shirt-on-man   1674\n",
       "20201     woman-wearing-shirt   1208\n",
       "10963        man-wearing-pant   1139\n",
       "14778  sheep-looking at-sheep   1132\n",
       "10968        man-wearing-shoe   1000\n",
       "20155      woman-watching-man    976\n",
       "1555     bird-looking at-bird    974\n",
       "10938      man-watching-woman    958"
      ]
     },
     "execution_count": 10,
     "metadata": {},
     "output_type": "execute_result"
    }
   ],
   "source": [
    "def pred_triplets(output_scene_graphs):\n",
    "    triplets = []\n",
    "    for graph in tqdm(output_scene_graphs.values()):\n",
    "        for r in graph[0]['relations']:\n",
    "            rel = graph[0]['entities'][r[0]]+'-'+r[2]+'-'+graph[0]['entities'][r[1]]\n",
    "            triplets.append(rel)\n",
    "    df = pd.DataFrame(triplets, columns =['Triplet'])\n",
    "    # count triplet occurences\n",
    "    df = df.groupby('Triplet').size().reset_index(name='Count')\n",
    "    # sort by count\n",
    "    df = df.sort_values(by=['Count'], ascending=False)\n",
    "    return df\n",
    "print(\"Ranking of triplets in the input scene graphs\")\n",
    "out = pred_triplets(output_scene_graphs)\n",
    "print(\"Total number of triplets in the input scene graphs: \", out['Count'].sum())\n",
    "out.head(10)\n"
   ]
  },
  {
   "attachments": {},
   "cell_type": "markdown",
   "metadata": {},
   "source": [
    "## Compute average triplets score"
   ]
  },
  {
   "cell_type": "code",
   "execution_count": null,
   "metadata": {},
   "outputs": [],
   "source": [
    "obj_list = ['man', 'woman', 'person']\n",
    "def triplets_ranking(output_scene_graphs):\n",
    "    triplets_score = []\n",
    "    for graph in tqdm(output_scene_graphs.values()):\n",
    "        for r in graph[0]['relations']:\n",
    "            rel = graph[0]['entities'][r[0]]+'-'+r[2]+'-'+graph[0]['entities'][r[1]]\n",
    "            triplets_score.append([rel, r[3]])\n",
    "    df = pd.DataFrame(triplets_score, columns =['Triplet', 'Score'])\n",
    "    # average the dataframe by triplet\n",
    "    df = df.groupby('Triplet')['Score'].mean().reset_index()\n",
    "    # sort the dataframe by score\n",
    "    df = df.sort_values(by=['Score'], ascending=False)\n",
    "    # filter by triplet containing man or woman only\n",
    "    df = df[df['Triplet'].str.contains('|'.join(obj_list))]\n",
    "    return df\n",
    "print(triplets_ranking(output_scene_graphs)[:50])\n"
   ]
  },
  {
   "cell_type": "code",
   "execution_count": 6,
   "metadata": {},
   "outputs": [
    {
     "name": "stderr",
     "output_type": "stream",
     "text": [
      "100%|██████████| 5001/5001 [00:00<00:00, 14905.88it/s]"
     ]
    },
    {
     "name": "stdout",
     "output_type": "stream",
     "text": [
      "                        Triplet  Rel_score\n",
      "5479             drawer-in-room   0.968571\n",
      "14445              room-has-leg   0.959393\n",
      "4970            dog-eating-food   0.957489\n",
      "4666               cup-in-glass   0.943067\n",
      "12946            plane-has-nose   0.933713\n",
      "19337       window-behind-child   0.925519\n",
      "4891               desk-has-leg   0.923503\n",
      "4772        curtain-behind-girl   0.922174\n",
      "7787          hand-holding-coat   0.922117\n",
      "7146          girl-riding-horse   0.912991\n",
      "3129           bus-behind-horse   0.911485\n",
      "5209          door-behind-child   0.910659\n",
      "2777           boy-riding-horse   0.905584\n",
      "19016         vegetable-in-bowl   0.901771\n",
      "11194     mountain-behind-woman   0.901466\n",
      "15625       sidewalk-under-face   0.901067\n",
      "11152       mountain-behind-cow   0.894293\n",
      "1083                bed-in-room   0.892868\n",
      "12939            plane-has-door   0.888168\n",
      "1811             boat-has-wheel   0.887122\n",
      "11154  mountain-behind-elephant   0.886597\n",
      "1678           board-behind-boy   0.882468\n",
      "12605             phone-in-hand   0.882160\n",
      "11158   mountain-behind-giraffe   0.881948\n",
      "12955           plane-has-wheel   0.881511\n",
      "2686             boy-has-finger   0.879398\n",
      "12940          plane-has-engine   0.878997\n",
      "4765         curtain-behind-cat   0.878699\n",
      "11153       mountain-behind-dog   0.878605\n",
      "11148       mountain-behind-boy   0.878406\n",
      "17676            toilet-in-room   0.876741\n",
      "12024           people-has-head   0.876691\n",
      "12957      plane-has-windshield   0.874328\n",
      "11166       mountain-behind-man   0.871813\n",
      "19826            woman-at-table   0.871186\n",
      "20237            zebra-has-nose   0.870998\n",
      "2692               boy-has-nose   0.870927\n",
      "13396            player-has-leg   0.870244\n",
      "11177     mountain-behind-sheep   0.869924\n",
      "6964           giraffe-has-nose   0.867029\n",
      "8809             horse-has-nose   0.866890\n",
      "16377            ski-under-roof   0.865170\n",
      "4443            counter-in-room   0.864687\n",
      "11171     mountain-behind-plane   0.864586\n",
      "18497           truck-has-plate   0.863510\n",
      "7044              girl-at-table   0.862338\n",
      "11162     mountain-behind-horse   0.861590\n",
      "8734            hill-behind-dog   0.861231\n",
      "11164      mountain-behind-kite   0.859287\n",
      "11172    mountain-behind-player   0.858883\n"
     ]
    },
    {
     "name": "stderr",
     "output_type": "stream",
     "text": [
      "\n"
     ]
    }
   ],
   "source": [
    "def triplets_ranking(output_scene_graphs):\n",
    "    triplets_score = []\n",
    "    for graph in tqdm(output_scene_graphs.values()):\n",
    "        for r in graph[0]['relations']:\n",
    "            rel = graph[0]['entities'][r[0]]+'-'+r[2]+'-'+graph[0]['entities'][r[1]]\n",
    "            triplets_score.append([rel, r[4]])\n",
    "    df = pd.DataFrame(triplets_score, columns =['Triplet', 'Rel_score'])\n",
    "    # average the dataframe by triplet\n",
    "    df = df.groupby('Triplet')['Rel_score'].mean().reset_index()\n",
    "    # sort the dataframe by score\n",
    "    df = df.sort_values(by=['Rel_score'], ascending=False)\n",
    "    # filter by triplet containing man or woman only\n",
    "    #df = df[df['Triplet'].str.contains('|'.join(obj_list))]\n",
    "    return df\n",
    "print(triplets_ranking(output_scene_graphs)[:50])"
   ]
  }
 ],
 "metadata": {
  "kernelspec": {
   "display_name": "phd",
   "language": "python",
   "name": "python3"
  },
  "language_info": {
   "codemirror_mode": {
    "name": "ipython",
    "version": 3
   },
   "file_extension": ".py",
   "mimetype": "text/x-python",
   "name": "python",
   "nbconvert_exporter": "python",
   "pygments_lexer": "ipython3",
   "version": "3.8.16"
  },
  "orig_nbformat": 4,
  "vscode": {
   "interpreter": {
    "hash": "7938123ceb831a528202b02dbdb8fd920084013224d6ffd4fcb9a5f6f5074515"
   }
  }
 },
 "nbformat": 4,
 "nbformat_minor": 2
}
