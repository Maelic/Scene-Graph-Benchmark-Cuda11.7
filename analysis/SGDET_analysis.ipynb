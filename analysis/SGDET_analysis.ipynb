{
 "cells": [
  {
   "cell_type": "code",
   "execution_count": 1,
   "metadata": {},
   "outputs": [],
   "source": [
    "import torch\n",
    "import json\n",
    "import numpy as np\n",
    "import pandas as pd\n",
    "from tqdm import tqdm\n",
    "import os, h5py\n",
    "from collections import Counter\n",
    "from utils import generate_detect_sg, generate_gt_sg\n",
    "from sgg_benchmark.config.paths_catalog import DatasetCatalog\n",
    "\n",
    "import altair as alt"
   ]
  },
  {
   "cell_type": "code",
   "execution_count": 2,
   "metadata": {},
   "outputs": [],
   "source": [
    "baseline_results = json.load(open(\"/home/maelic/checkpoints/VG_stanford_filtered_with_attribute_test/sgdet_results.json\"))\n",
    "gt_results = json.load(open(\"/home/maelic/checkpoints/VG_stanford_filtered_with_attribute_test/sgdet_results_gt.json\"))\n",
    "dict_file = json.load(open(\"/home/maelic/Documents/Scene-Graph-Benchmark-Cuda11.7/datasets/VG150/baseline/VG-SGG-dicts-with-attri.json\"))\n",
    "visual_info = json.load(open(\"/home/maelic/checkpoints/VG_stanford_filtered_with_attribute_test/visual_info.json\"))"
   ]
  },
  {
   "cell_type": "code",
   "execution_count": 32,
   "metadata": {},
   "outputs": [],
   "source": [
    "def bar_chart_color(data, x_column, y_column, title=\"\", width=800, height=400):\n",
    "    \"\"\"Construct a simple bar chart with two properties\"\"\"\n",
    "    bars = alt.Chart(data).mark_bar().encode(\n",
    "        color=alt.Color('type', scale=alt.Scale(domain=['part-whole', 'possessive', 'semantic', 'spatial']), legend = alt.Legend(title=\"Type\")),\n",
    "        y=alt.Y(y_column,sort='-x'),\n",
    "        x=alt.X(x_column,sort=None, axis=alt.Axis(labelAngle=-45)),\n",
    "    ).properties(\n",
    "        title=title,\n",
    "        width=width,\n",
    "        height=height\n",
    "    )\n",
    "\n",
    "    text = bars.mark_text(\n",
    "        align='left',\n",
    "        baseline='middle',\n",
    "        dx=3  # Nudges text to right so it doesn't appear on top of the bar\n",
    "    ).encode(\n",
    "        text=x_column\n",
    "    )\n",
    "\n",
    "    return (bars)"
   ]
  },
  {
   "cell_type": "code",
   "execution_count": 33,
   "metadata": {},
   "outputs": [
    {
     "name": "stdout",
     "output_type": "stream",
     "text": [
      "14717\n",
      "16517\n",
      "                      Triplet  Frequency\n",
      "0                 ear on head  14.500000\n",
      "1           table under plate  11.371429\n",
      "2            table with chair   8.675000\n",
      "3                 head of cow   7.548387\n",
      "4               head of zebra   5.301370\n",
      "5       man walking on street   5.166667\n",
      "6   sign in front of building   5.108108\n",
      "7               head of sheep   4.641026\n",
      "8             plate with food   4.555556\n",
      "9             neck of giraffe   4.461538\n",
      "10              tire of truck   4.346154\n",
      "11                 ear of cow   3.862069\n",
      "12            tail of giraffe   3.861111\n",
      "13              tail of zebra   3.829787\n",
      "14         woman wearing shoe   3.712871\n",
      "15             leg of giraffe   3.673267\n",
      "16            woman with hair   3.572254\n",
      "17               head has ear   3.441176\n",
      "18            head of giraffe   3.403846\n",
      "19             girl with hair   3.255814\n"
     ]
    },
    {
     "name": "stderr",
     "output_type": "stream",
     "text": [
      "/home/maelic/.local/lib/python3.8/site-packages/altair/utils/core.py:317: FutureWarning: iteritems is deprecated and will be removed in a future version. Use .items instead.\n",
      "  for col_name, dtype in df.dtypes.iteritems():\n"
     ]
    },
    {
     "data": {
      "text/html": [
       "\n",
       "<div id=\"altair-viz-91fade8a684b44b39653877da976872c\"></div>\n",
       "<script type=\"text/javascript\">\n",
       "  var VEGA_DEBUG = (typeof VEGA_DEBUG == \"undefined\") ? {} : VEGA_DEBUG;\n",
       "  (function(spec, embedOpt){\n",
       "    let outputDiv = document.currentScript.previousElementSibling;\n",
       "    if (outputDiv.id !== \"altair-viz-91fade8a684b44b39653877da976872c\") {\n",
       "      outputDiv = document.getElementById(\"altair-viz-91fade8a684b44b39653877da976872c\");\n",
       "    }\n",
       "    const paths = {\n",
       "      \"vega\": \"https://cdn.jsdelivr.net/npm//vega@5?noext\",\n",
       "      \"vega-lib\": \"https://cdn.jsdelivr.net/npm//vega-lib?noext\",\n",
       "      \"vega-lite\": \"https://cdn.jsdelivr.net/npm//vega-lite@4.17.0?noext\",\n",
       "      \"vega-embed\": \"https://cdn.jsdelivr.net/npm//vega-embed@6?noext\",\n",
       "    };\n",
       "\n",
       "    function maybeLoadScript(lib, version) {\n",
       "      var key = `${lib.replace(\"-\", \"\")}_version`;\n",
       "      return (VEGA_DEBUG[key] == version) ?\n",
       "        Promise.resolve(paths[lib]) :\n",
       "        new Promise(function(resolve, reject) {\n",
       "          var s = document.createElement('script');\n",
       "          document.getElementsByTagName(\"head\")[0].appendChild(s);\n",
       "          s.async = true;\n",
       "          s.onload = () => {\n",
       "            VEGA_DEBUG[key] = version;\n",
       "            return resolve(paths[lib]);\n",
       "          };\n",
       "          s.onerror = () => reject(`Error loading script: ${paths[lib]}`);\n",
       "          s.src = paths[lib];\n",
       "        });\n",
       "    }\n",
       "\n",
       "    function showError(err) {\n",
       "      outputDiv.innerHTML = `<div class=\"error\" style=\"color:red;\">${err}</div>`;\n",
       "      throw err;\n",
       "    }\n",
       "\n",
       "    function displayChart(vegaEmbed) {\n",
       "      vegaEmbed(outputDiv, spec, embedOpt)\n",
       "        .catch(err => showError(`Javascript Error: ${err.message}<br>This usually means there's a typo in your chart specification. See the javascript console for the full traceback.`));\n",
       "    }\n",
       "\n",
       "    if(typeof define === \"function\" && define.amd) {\n",
       "      requirejs.config({paths});\n",
       "      require([\"vega-embed\"], displayChart, err => showError(`Error loading script: ${err.message}`));\n",
       "    } else {\n",
       "      maybeLoadScript(\"vega\", \"5\")\n",
       "        .then(() => maybeLoadScript(\"vega-lite\", \"4.17.0\"))\n",
       "        .then(() => maybeLoadScript(\"vega-embed\", \"6\"))\n",
       "        .catch(showError)\n",
       "        .then(() => displayChart(vegaEmbed));\n",
       "    }\n",
       "  })({\"config\": {\"view\": {\"continuousWidth\": 400, \"continuousHeight\": 300}}, \"data\": {\"name\": \"data-4b426d87a00cb962a6ccc05dac9147bf\"}, \"mark\": \"bar\", \"encoding\": {\"color\": {\"field\": \"type\", \"legend\": {\"title\": \"Type\"}, \"scale\": {\"domain\": [\"part-whole\", \"possessive\", \"semantic\", \"spatial\"]}, \"type\": \"nominal\"}, \"x\": {\"axis\": {\"labelAngle\": -45}, \"field\": \"Triplet\", \"sort\": null, \"type\": \"nominal\"}, \"y\": {\"field\": \"Frequency\", \"sort\": \"-x\", \"type\": \"quantitative\"}}, \"height\": 200, \"title\": \"\", \"width\": 500, \"$schema\": \"https://vega.github.io/schema/vega-lite/v4.17.0.json\", \"datasets\": {\"data-4b426d87a00cb962a6ccc05dac9147bf\": [{\"Unnamed: 0\": 0, \"Triplet\": \"ear on head\", \"Frequency\": 14.5, \"type\": \"part-whole\"}, {\"Unnamed: 0\": 1, \"Triplet\": \"table under plate\", \"Frequency\": 11.371428571428572, \"type\": \"spatial\"}, {\"Unnamed: 0\": 2, \"Triplet\": \"table with chair\", \"Frequency\": 8.675, \"type\": \"possessive\"}, {\"Unnamed: 0\": 3, \"Triplet\": \"head of cow\", \"Frequency\": 7.548387096774194, \"type\": \"part-whole\"}, {\"Unnamed: 0\": 4, \"Triplet\": \"head of zebra\", \"Frequency\": 5.301369863013699, \"type\": \"part-whole\"}, {\"Unnamed: 0\": 5, \"Triplet\": \"man walking on street\", \"Frequency\": 5.166666666666667, \"type\": \"semantic\"}, {\"Unnamed: 0\": 6, \"Triplet\": \"sign in front of building\", \"Frequency\": 5.108108108108108, \"type\": \"spatial\"}, {\"Unnamed: 0\": 7, \"Triplet\": \"head of sheep\", \"Frequency\": 4.641025641025641, \"type\": \"part-whole\"}, {\"Unnamed: 0\": 8, \"Triplet\": \"plate with food\", \"Frequency\": 4.555555555555555, \"type\": \"possessive\"}, {\"Unnamed: 0\": 9, \"Triplet\": \"neck of giraffe\", \"Frequency\": 4.461538461538462, \"type\": \"part-whole\"}, {\"Unnamed: 0\": 10, \"Triplet\": \"tire of truck\", \"Frequency\": 4.346153846153846, \"type\": \"part-whole\"}, {\"Unnamed: 0\": 11, \"Triplet\": \"ear of cow\", \"Frequency\": 3.8620689655172415, \"type\": \"part-whole\"}, {\"Unnamed: 0\": 12, \"Triplet\": \"tail of giraffe\", \"Frequency\": 3.861111111111111, \"type\": \"part-whole\"}, {\"Unnamed: 0\": 13, \"Triplet\": \"tail of zebra\", \"Frequency\": 3.8297872340425534, \"type\": \"part-whole\"}, {\"Unnamed: 0\": 14, \"Triplet\": \"woman wearing shoe\", \"Frequency\": 3.712871287128713, \"type\": \"possessive\"}, {\"Unnamed: 0\": 15, \"Triplet\": \"leg of giraffe\", \"Frequency\": 3.6732673267326734, \"type\": \"part-whole\"}, {\"Unnamed: 0\": 16, \"Triplet\": \"woman with hair\", \"Frequency\": 3.572254335260116, \"type\": \"part-whole\"}, {\"Unnamed: 0\": 17, \"Triplet\": \"head has ear\", \"Frequency\": 3.4411764705882355, \"type\": \"part-whole\"}, {\"Unnamed: 0\": 18, \"Triplet\": \"head of giraffe\", \"Frequency\": 3.4038461538461537, \"type\": \"part-whole\"}, {\"Unnamed: 0\": 19, \"Triplet\": \"girl with hair\", \"Frequency\": 3.255813953488372, \"type\": \"part-whole\"}]}}, {\"mode\": \"vega-lite\"});\n",
       "</script>"
      ],
      "text/plain": [
       "alt.Chart(...)"
      ]
     },
     "execution_count": 33,
     "metadata": {},
     "output_type": "execute_result"
    }
   ],
   "source": [
    "# remove images from baseline_results that are not in gt_results\n",
    "baseline_results = {k: v for k, v in baseline_results.items() if k in gt_results}\n",
    "triplet_count = Counter()\n",
    "for img in baseline_results:\n",
    "    # rank by rel score\n",
    "    baseline_results[img][0]['relations'] = sorted(baseline_results[img][0]['relations'], key=lambda x: x[2], reverse=True)[:len(gt_results[img][0]['relations'])]\n",
    "    # get triplets string\n",
    "    baseline_results[img][0]['triplets'] = ['{} {} {}'.format(baseline_results[img][0]['entities'][i[0]], i[2], baseline_results[img][0]['entities'][i[1]]) for i in baseline_results[img][0]['relations']]\n",
    "    triplet_count.update(baseline_results[img][0]['triplets'])\n",
    "print(len(triplet_count))\n",
    "\n",
    "# get frequency of triplet in the gt dataset\n",
    "triplet_count_gt = Counter()\n",
    "idx_to_predicate = dict_file['idx_to_predicate']\n",
    "for img in gt_results:\n",
    "    gt_results[img][0]['triplets'] = ['{} {} {}'.format(gt_results[img][0]['entities'][i[0]], idx_to_predicate[str(i[2])], gt_results[img][0]['entities'][i[1]]) for i in gt_results[img][0]['relations']]\n",
    "    triplet_count_gt.update(gt_results[img][0]['triplets'])\n",
    "print(len(triplet_count_gt))\n",
    "\n",
    "# get the frequency of matching triplets\n",
    "matching_pairs = sorted([(i, triplet_count[i]/triplet_count_gt[i]) for i in triplet_count.keys() if i in triplet_count_gt.keys() and triplet_count_gt[i] > 25], reverse=True, key=lambda x: x[1])[:20]\n",
    "\n",
    "# wrap this up as a pandas dataframe\n",
    "df = pd.DataFrame(matching_pairs, columns=['Triplet', 'Frequency'])\n",
    "df.astype({'Triplet': 'str'}).dtypes\n",
    "df.astype({'Frequency': 'float'}).dtypes\n",
    "#df.to_csv('matching_pairs.csv')\n",
    "\n",
    "# add type\n",
    "part_whole = []\n",
    "print(df)\n",
    "# show a bar plot\n",
    "#df.plot.bar(x='Triplet', y='Frequency', rot=75, figsize=(10, 5))\n",
    "df = pd.read_csv('matching_pairs.csv')\n",
    "\n",
    "# for i in range(len(df)):\n",
    "#     if df['type'][i] == 1:\n",
    "#         df['type'][i] = '#ff0000' # part-of\n",
    "#     elif df['type'][i] == 2:\n",
    "#         df['type'][i] = '#38761d' # spatial\n",
    "#     elif df['type'][i] == 3:\n",
    "#         df['type'][i] = '#bf9000' # attribute\n",
    "#     elif df['type'][i] == 4:\n",
    "#         df['type'][i] = '#163ef5' # semantic\n",
    "\n",
    "bar_chart_color(df, 'Triplet', 'Frequency', title=\"\", width=500, height=200)\n"
   ]
  },
  {
   "cell_type": "code",
   "execution_count": 4,
   "metadata": {},
   "outputs": [],
   "source": [
    "path = \"/home/maelic/Documents/Scene-Graph-Benchmark-Cuda11.7/datasets/VG150/curated/VG-SGG-with-attri.h5\"\n",
    "# load with h5py\n",
    "data = h5py.File(path, 'r')\n",
    "# load image data\n",
    "image_data = json.load(open(\"/home/maelic/Documents/PhD/MyModel/Scene-Graph-Benchmark-Cuda11.7/datasets/vg/image_data.json\"))"
   ]
  },
  {
   "cell_type": "code",
   "execution_count": 5,
   "metadata": {},
   "outputs": [
    {
     "name": "stdout",
     "output_type": "stream",
     "text": [
      "32422\n"
     ]
    }
   ],
   "source": [
    "# get images ids from test split\n",
    "test_ids = []\n",
    "for i, img in enumerate(data['split_rel']):\n",
    "    if img == 2:\n",
    "        id = image_data[i]['image_id']\n",
    "        test_ids.append(id)\n",
    "print(len(test_ids))"
   ]
  },
  {
   "attachments": {},
   "cell_type": "markdown",
   "metadata": {},
   "source": [
    "# Run Evaluation for test or train split"
   ]
  },
  {
   "cell_type": "code",
   "execution_count": 6,
   "metadata": {},
   "outputs": [],
   "source": [
    "BASE_PATH=\"/home/maelic/Documents/Scene-Graph-Benchmark-Cuda11.7/\"\n",
    "SGDET_DIR=BASE_PATH+\"checkpoints/VG150/baseline/upload_causal_motif_sgdet\"\n",
    "FASTER_RCNN_DIR=BASE_PATH+\"checkpoints/VG150/curated/pretrained_faster_rcnn/model_final.pth\"\n",
    "GLOVE_DIR=\"/home/maelic/glove\"\n",
    "EVAL_TYPE=\"test\"\n",
    "CONFIG=\"configs/VG150/curated/e2e_relation_X_101_32_8_FPN_1x.yaml\"\n",
    "DATASET=\"VG_stanford_filtered_with_attribute\"\n",
    "TASK=\"sgdet\""
   ]
  },
  {
   "cell_type": "code",
   "execution_count": 7,
   "metadata": {},
   "outputs": [],
   "source": [
    "stats = json.load(open('/home/maelic/Documents/PhD/MyModel/Scene-Graph-Benchmark-Cuda11.7/analysis/sg_statistics.json'))"
   ]
  },
  {
   "cell_type": "code",
   "execution_count": 8,
   "metadata": {},
   "outputs": [],
   "source": [
    "#!cd .. && pwd && CUDA_VISIBLE_DEVICES=0 python tools/relation_test_net.py --config-file $CONFIG --task  --verbose MODEL.ROI_RELATION_HEAD.PREDICTOR CausalAnalysisPredictor MODEL.ROI_RELATION_HEAD.CAUSAL.EFFECT_TYPE TDE MODEL.ROI_RELATION_HEAD.CAUSAL.FUSION_TYPE sum MODEL.ROI_RELATION_HEAD.CAUSAL.CONTEXT_LAYER motifs  SOLVER.IMS_PER_BATCH 32 TEST.IMS_PER_BATCH 1 DTYPE \"float16\" SOLVER.MAX_ITER 30000 SOLVER.VAL_PERIOD 2000 SOLVER.CHECKPOINT_PERIOD 2000 SOLVER.PRE_VAL False GLOVE_DIR $GLOVE_DIR MODEL.PRETRAINED_DETECTOR_CKPT $FASTER_RCNN_DIR OUTPUT_DIR $SGDET_DIR DATASETS.TO_TEST $EVAL_TYPE"
   ]
  },
  {
   "cell_type": "code",
   "execution_count": 9,
   "metadata": {},
   "outputs": [
    {
     "name": "stdout",
     "output_type": "stream",
     "text": [
      "python: can't open file 'tools/relation_test_net.py': [Errno 2] No such file or directory\n"
     ]
    }
   ],
   "source": [
    "!CUDA_VISIBLE_DEVICES=0 python tools/relation_test_net.py --config-file \"configs/VG150/curated/e2e_relation_X_101_32_8_FPN_1x.yaml\" --task \"sgdet\" --verbose MODEL.ROI_RELATION_HEAD.PREDICTOR CausalAnalysisPredictor MODEL.ROI_RELATION_HEAD.CAUSAL.EFFECT_TYPE TDE MODEL.ROI_RELATION_HEAD.CAUSAL.FUSION_TYPE sum MODEL.ROI_RELATION_HEAD.CAUSAL.CONTEXT_LAYER vctree SOLVER.IMS_PER_BATCH 32 TEST.IMS_PER_BATCH 12 DTYPE \"float16\" SOLVER.MAX_ITER 30000 SOLVER.VAL_PERIOD 2000 SOLVER.CHECKPOINT_PERIOD 2000 SOLVER.PRE_VAL False GLOVE_DIR /home/maelic/glove MODEL.PRETRAINED_DETECTOR_CKPT /home/maelic/Documents/Scene-Graph-Benchmark-Cuda11.7/checkpoints/VG150/curated/pretrained_faster_rcnn/model_final.pth OUTPUT_DIR /home/maelic/Documents/Scene-Graph-Benchmark-Cuda11.7/checkpoints/VG150/curated/sgdet_vctree_tde DATASETS.TO_TEST train"
   ]
  },
  {
   "cell_type": "code",
   "execution_count": 10,
   "metadata": {},
   "outputs": [],
   "source": [
    "result_path = SGDET_DIR + '/inference/' + DATASET +'_' + EVAL_TYPE + '/' \n",
    "info_dict = json.load(open(result_path + 'visual_info.json'))\n",
    "detected_result = torch.load(result_path+'eval_results.pytorch')\n",
    "result_dict = torch.load(result_path + 'result_dict.pytorch')\n",
    "vg_dict = json.load(open(DatasetCatalog.DATASETS[DATASET]['dict_file']))\n",
    "vg_data = h5py.File(DatasetCatalog.DATASETS[DATASET]['roidb_file'], 'r')"
   ]
  },
  {
   "cell_type": "code",
   "execution_count": 11,
   "metadata": {},
   "outputs": [
    {
     "name": "stderr",
     "output_type": "stream",
     "text": [
      "Generating scene graphs :   1%|          | 51/5001 [00:04<07:12, 11.45it/s]\n"
     ]
    },
    {
     "ename": "KeyboardInterrupt",
     "evalue": "",
     "output_type": "error",
     "traceback": [
      "\u001b[0;31m---------------------------------------------------------------------------\u001b[0m",
      "\u001b[0;31mKeyboardInterrupt\u001b[0m                         Traceback (most recent call last)",
      "Cell \u001b[0;32mIn[11], line 1\u001b[0m\n\u001b[0;32m----> 1\u001b[0m output_scene_graphs \u001b[39m=\u001b[39m generate_detect_sg(detected_result, info_dict, vg_dict, \u001b[39m0.3\u001b[39;49m)\n\u001b[1;32m      2\u001b[0m pred \u001b[39m=\u001b[39m [\u001b[39mlen\u001b[39m(pred[\u001b[39m0\u001b[39m][\u001b[39m'\u001b[39m\u001b[39mrelations\u001b[39m\u001b[39m'\u001b[39m]) \u001b[39mfor\u001b[39;00m i, pred \u001b[39min\u001b[39;00m \u001b[39menumerate\u001b[39m(output_scene_graphs\u001b[39m.\u001b[39mvalues())]\n\u001b[1;32m      3\u001b[0m \u001b[39mprint\u001b[39m(\u001b[39m\"\u001b[39m\u001b[39mNumber of total relations predicted: \u001b[39m\u001b[39m\"\u001b[39m, \u001b[39msum\u001b[39m(pred))\n",
      "File \u001b[0;32m~/Documents/PhD/MyModel/Scene-Graph-Benchmark-Cuda11.7/analysis/utils.py:38\u001b[0m, in \u001b[0;36mgenerate_detect_sg\u001b[0;34m(det_result, det_info, vg_dict, obj_thres)\u001b[0m\n\u001b[1;32m     36\u001b[0m \u001b[39mfor\u001b[39;00m k \u001b[39min\u001b[39;00m \u001b[39mrange\u001b[39m(num_rel):\n\u001b[1;32m     37\u001b[0m     \u001b[39mif\u001b[39;00m rel_mask[k]:\n\u001b[0;32m---> 38\u001b[0m         rel_matrix[\u001b[39mint\u001b[39m(all_rel_pairs[k, \u001b[39m0\u001b[39m]), \u001b[39mint\u001b[39m(all_rel_pairs[k, \u001b[39m1\u001b[39m])], triplet_scores_matrix[\u001b[39mint\u001b[39m(all_rel_pairs[k, \u001b[39m0\u001b[39m]), \u001b[39mint\u001b[39m(all_rel_pairs[k, \u001b[39m1\u001b[39m])], rel_scores_matrix[\u001b[39mint\u001b[39m(all_rel_pairs[k, \u001b[39m0\u001b[39m]), \u001b[39mint\u001b[39;49m(all_rel_pairs[k, \u001b[39m1\u001b[39;49m])] \u001b[39m=\u001b[39m all_rel_labels[k], triplet_score[k], all_rel_scores[k]\n\u001b[1;32m     39\u001b[0m rel_matrix \u001b[39m=\u001b[39m rel_matrix[obj_mask][:, obj_mask]\u001b[39m.\u001b[39mlong()\n\u001b[1;32m     40\u001b[0m triplet_scores_matrix \u001b[39m=\u001b[39m triplet_scores_matrix[obj_mask][:, obj_mask]\u001b[39m.\u001b[39mfloat()\n",
      "\u001b[0;31mKeyboardInterrupt\u001b[0m: "
     ]
    }
   ],
   "source": [
    "output_scene_graphs = generate_detect_sg(detected_result, info_dict, vg_dict, 0.3)\n",
    "pred = [len(pred[0]['relations']) for i, pred in enumerate(output_scene_graphs.values())]\n",
    "print(\"Number of total relations predicted: \", sum(pred))"
   ]
  },
  {
   "cell_type": "code",
   "execution_count": null,
   "metadata": {},
   "outputs": [
    {
     "name": "stdout",
     "output_type": "stream",
     "text": [
      "saving to:  /home/maelic/Documents/Scene-Graph-Benchmark-Cuda11.7/checkpoints/VG150/baseline/upload_causal_motif_sgdet/inference/VG_stanford_filtered_with_attribute_test/sgdet_results.json\n"
     ]
    }
   ],
   "source": [
    "# dump results to json file\n",
    "with open(SGDET_DIR + '/inference/' + DATASET +'_' + EVAL_TYPE + '/sgdet_results.json', 'w') as f:\n",
    "    json.dump(output_scene_graphs, f)\n",
    "    print(\"saving to: \", SGDET_DIR + '/inference/' + DATASET +'_' + EVAL_TYPE + '/sgdet_results.json')"
   ]
  },
  {
   "cell_type": "code",
   "execution_count": null,
   "metadata": {},
   "outputs": [],
   "source": [
    "pred = [len(pred[0]['relations']) for i, pred in enumerate(output_scene_graphs.values())]\n",
    "print(sum(pred))"
   ]
  },
  {
   "cell_type": "code",
   "execution_count": null,
   "metadata": {},
   "outputs": [
    {
     "name": "stderr",
     "output_type": "stream",
     "text": [
      "100%|██████████| 5001/5001 [00:00<00:00, 52449.64it/s]"
     ]
    },
    {
     "name": "stdout",
     "output_type": "stream",
     "text": [
      "3765\n",
      "5001\n"
     ]
    },
    {
     "name": "stderr",
     "output_type": "stream",
     "text": [
      "\n"
     ]
    }
   ],
   "source": [
    "input_scene_graphs = generate_gt_sg(vg_data, vg_dict, info_dict)\n",
    "print(len(input_scene_graphs))\n",
    "print(len([os.path.basename(img['img_file']).strip('.jpg') for img in info_dict]))"
   ]
  },
  {
   "attachments": {},
   "cell_type": "markdown",
   "metadata": {},
   "source": [
    "## Compute frequency"
   ]
  },
  {
   "cell_type": "code",
   "execution_count": null,
   "metadata": {},
   "outputs": [
    {
     "name": "stdout",
     "output_type": "stream",
     "text": [
      "Ranking of triplets in the input scene graphs\n"
     ]
    },
    {
     "name": "stderr",
     "output_type": "stream",
     "text": [
      "100%|██████████| 3765/3765 [00:00<00:00, 316223.21it/s]"
     ]
    },
    {
     "name": "stdout",
     "output_type": "stream",
     "text": [
      "Total number of triplets in the input scene graphs:  25259\n"
     ]
    },
    {
     "name": "stderr",
     "output_type": "stream",
     "text": [
      "\n"
     ]
    },
    {
     "data": {
      "text/html": [
       "<div>\n",
       "<style scoped>\n",
       "    .dataframe tbody tr th:only-of-type {\n",
       "        vertical-align: middle;\n",
       "    }\n",
       "\n",
       "    .dataframe tbody tr th {\n",
       "        vertical-align: top;\n",
       "    }\n",
       "\n",
       "    .dataframe thead th {\n",
       "        text-align: right;\n",
       "    }\n",
       "</style>\n",
       "<table border=\"1\" class=\"dataframe\">\n",
       "  <thead>\n",
       "    <tr style=\"text-align: right;\">\n",
       "      <th></th>\n",
       "      <th>Triplet</th>\n",
       "      <th>Count</th>\n",
       "    </tr>\n",
       "  </thead>\n",
       "  <tbody>\n",
       "    <tr>\n",
       "      <th>3365</th>\n",
       "      <td>window-on-building</td>\n",
       "      <td>4597</td>\n",
       "    </tr>\n",
       "    <tr>\n",
       "      <th>579</th>\n",
       "      <td>car-on-street</td>\n",
       "      <td>797</td>\n",
       "    </tr>\n",
       "    <tr>\n",
       "      <th>426</th>\n",
       "      <td>building-has-window</td>\n",
       "      <td>758</td>\n",
       "    </tr>\n",
       "    <tr>\n",
       "      <th>1508</th>\n",
       "      <td>leaf-on-tree</td>\n",
       "      <td>469</td>\n",
       "    </tr>\n",
       "    <tr>\n",
       "      <th>1831</th>\n",
       "      <td>man-wearing-shirt</td>\n",
       "      <td>286</td>\n",
       "    </tr>\n",
       "    <tr>\n",
       "      <th>2216</th>\n",
       "      <td>pillow-on-bed</td>\n",
       "      <td>221</td>\n",
       "    </tr>\n",
       "    <tr>\n",
       "      <th>3370</th>\n",
       "      <td>window-on-house</td>\n",
       "      <td>206</td>\n",
       "    </tr>\n",
       "    <tr>\n",
       "      <th>1624</th>\n",
       "      <td>light-on-pole</td>\n",
       "      <td>202</td>\n",
       "    </tr>\n",
       "    <tr>\n",
       "      <th>2968</th>\n",
       "      <td>tire-on-car</td>\n",
       "      <td>201</td>\n",
       "    </tr>\n",
       "    <tr>\n",
       "      <th>239</th>\n",
       "      <td>book-on-shelf</td>\n",
       "      <td>200</td>\n",
       "    </tr>\n",
       "  </tbody>\n",
       "</table>\n",
       "</div>"
      ],
      "text/plain": [
       "                  Triplet  Count\n",
       "3365   window-on-building   4597\n",
       "579         car-on-street    797\n",
       "426   building-has-window    758\n",
       "1508         leaf-on-tree    469\n",
       "1831    man-wearing-shirt    286\n",
       "2216        pillow-on-bed    221\n",
       "3370      window-on-house    206\n",
       "1624        light-on-pole    202\n",
       "2968          tire-on-car    201\n",
       "239         book-on-shelf    200"
      ]
     },
     "execution_count": 13,
     "metadata": {},
     "output_type": "execute_result"
    }
   ],
   "source": [
    "def gt_triplets(input_scene_graphs):\n",
    "    triplets = []\n",
    "    for graph in tqdm(input_scene_graphs.values()):\n",
    "        for r in graph[0]['relations']:\n",
    "            rel = graph[0]['entities'][r[0]]+'-'+vg_dict['idx_to_predicate'][str(r[2])]+'-'+graph[0]['entities'][r[1]]\n",
    "            triplets.append(rel)\n",
    "    df = pd.DataFrame(triplets, columns =['Triplet'])\n",
    "    # count triplet occurences\n",
    "    df = df.groupby('Triplet').size().reset_index(name='Count')\n",
    "    # sort by count\n",
    "    df = df.sort_values(by=['Count'], ascending=False)\n",
    "    return df\n",
    "print(\"Ranking of triplets in the input scene graphs\")\n",
    "gt_freq = gt_triplets(input_scene_graphs)\n",
    "print(\"Total number of triplets in the input scene graphs: \", gt_freq['Count'].sum())\n",
    "gt_freq.head(10)\n",
    "# total number of triplets\n"
   ]
  },
  {
   "cell_type": "code",
   "execution_count": null,
   "metadata": {},
   "outputs": [
    {
     "name": "stdout",
     "output_type": "stream",
     "text": [
      "Ranking of triplets in the input scene graphs\n"
     ]
    },
    {
     "name": "stderr",
     "output_type": "stream",
     "text": [
      "100%|██████████| 5001/5001 [00:00<00:00, 99468.48it/s]"
     ]
    },
    {
     "name": "stdout",
     "output_type": "stream",
     "text": [
      "Total number of triplets in the input scene graphs:  232672\n"
     ]
    },
    {
     "name": "stderr",
     "output_type": "stream",
     "text": [
      "\n"
     ]
    },
    {
     "data": {
      "text/html": [
       "<div>\n",
       "<style scoped>\n",
       "    .dataframe tbody tr th:only-of-type {\n",
       "        vertical-align: middle;\n",
       "    }\n",
       "\n",
       "    .dataframe tbody tr th {\n",
       "        vertical-align: top;\n",
       "    }\n",
       "\n",
       "    .dataframe thead th {\n",
       "        text-align: right;\n",
       "    }\n",
       "</style>\n",
       "<table border=\"1\" class=\"dataframe\">\n",
       "  <thead>\n",
       "    <tr style=\"text-align: right;\">\n",
       "      <th></th>\n",
       "      <th>Triplet</th>\n",
       "      <th>Count</th>\n",
       "    </tr>\n",
       "  </thead>\n",
       "  <tbody>\n",
       "    <tr>\n",
       "      <th>10967</th>\n",
       "      <td>man-wearing-shirt</td>\n",
       "      <td>3522</td>\n",
       "    </tr>\n",
       "    <tr>\n",
       "      <th>10906</th>\n",
       "      <td>man-watching-man</td>\n",
       "      <td>3320</td>\n",
       "    </tr>\n",
       "    <tr>\n",
       "      <th>15141</th>\n",
       "      <td>shirt-on-man</td>\n",
       "      <td>1674</td>\n",
       "    </tr>\n",
       "    <tr>\n",
       "      <th>20201</th>\n",
       "      <td>woman-wearing-shirt</td>\n",
       "      <td>1208</td>\n",
       "    </tr>\n",
       "    <tr>\n",
       "      <th>10963</th>\n",
       "      <td>man-wearing-pant</td>\n",
       "      <td>1139</td>\n",
       "    </tr>\n",
       "    <tr>\n",
       "      <th>14778</th>\n",
       "      <td>sheep-looking at-sheep</td>\n",
       "      <td>1132</td>\n",
       "    </tr>\n",
       "    <tr>\n",
       "      <th>10968</th>\n",
       "      <td>man-wearing-shoe</td>\n",
       "      <td>1000</td>\n",
       "    </tr>\n",
       "    <tr>\n",
       "      <th>20155</th>\n",
       "      <td>woman-watching-man</td>\n",
       "      <td>976</td>\n",
       "    </tr>\n",
       "    <tr>\n",
       "      <th>1555</th>\n",
       "      <td>bird-looking at-bird</td>\n",
       "      <td>974</td>\n",
       "    </tr>\n",
       "    <tr>\n",
       "      <th>10938</th>\n",
       "      <td>man-watching-woman</td>\n",
       "      <td>958</td>\n",
       "    </tr>\n",
       "  </tbody>\n",
       "</table>\n",
       "</div>"
      ],
      "text/plain": [
       "                      Triplet  Count\n",
       "10967       man-wearing-shirt   3522\n",
       "10906        man-watching-man   3320\n",
       "15141            shirt-on-man   1674\n",
       "20201     woman-wearing-shirt   1208\n",
       "10963        man-wearing-pant   1139\n",
       "14778  sheep-looking at-sheep   1132\n",
       "10968        man-wearing-shoe   1000\n",
       "20155      woman-watching-man    976\n",
       "1555     bird-looking at-bird    974\n",
       "10938      man-watching-woman    958"
      ]
     },
     "execution_count": 10,
     "metadata": {},
     "output_type": "execute_result"
    }
   ],
   "source": [
    "def pred_triplets(output_scene_graphs):\n",
    "    triplets = []\n",
    "    for graph in tqdm(output_scene_graphs.values()):\n",
    "        for r in graph[0]['relations']:\n",
    "            rel = graph[0]['entities'][r[0]]+'-'+r[2]+'-'+graph[0]['entities'][r[1]]\n",
    "            triplets.append(rel)\n",
    "    df = pd.DataFrame(triplets, columns =['Triplet'])\n",
    "    # count triplet occurences\n",
    "    df = df.groupby('Triplet').size().reset_index(name='Count')\n",
    "    # sort by count\n",
    "    df = df.sort_values(by=['Count'], ascending=False)\n",
    "    return df\n",
    "print(\"Ranking of triplets in the input scene graphs\")\n",
    "out = pred_triplets(output_scene_graphs)\n",
    "print(\"Total number of triplets in the input scene graphs: \", out['Count'].sum())\n",
    "out.head(10)\n"
   ]
  },
  {
   "attachments": {},
   "cell_type": "markdown",
   "metadata": {},
   "source": [
    "## Compute average triplets score"
   ]
  },
  {
   "cell_type": "code",
   "execution_count": null,
   "metadata": {},
   "outputs": [],
   "source": [
    "obj_list = ['man', 'woman', 'person']\n",
    "def triplets_ranking(output_scene_graphs):\n",
    "    triplets_score = []\n",
    "    for graph in tqdm(output_scene_graphs.values()):\n",
    "        for r in graph[0]['relations']:\n",
    "            rel = graph[0]['entities'][r[0]]+'-'+r[2]+'-'+graph[0]['entities'][r[1]]\n",
    "            triplets_score.append([rel, r[3]])\n",
    "    df = pd.DataFrame(triplets_score, columns =['Triplet', 'Score'])\n",
    "    # average the dataframe by triplet\n",
    "    df = df.groupby('Triplet')['Score'].mean().reset_index()\n",
    "    # sort the dataframe by score\n",
    "    df = df.sort_values(by=['Score'], ascending=False)\n",
    "    # filter by triplet containing man or woman only\n",
    "    df = df[df['Triplet'].str.contains('|'.join(obj_list))]\n",
    "    return df\n",
    "print(triplets_ranking(output_scene_graphs)[:50])\n"
   ]
  },
  {
   "cell_type": "code",
   "execution_count": null,
   "metadata": {},
   "outputs": [
    {
     "name": "stderr",
     "output_type": "stream",
     "text": [
      "100%|██████████| 5001/5001 [00:00<00:00, 14905.88it/s]"
     ]
    },
    {
     "name": "stdout",
     "output_type": "stream",
     "text": [
      "                        Triplet  Rel_score\n",
      "5479             drawer-in-room   0.968571\n",
      "14445              room-has-leg   0.959393\n",
      "4970            dog-eating-food   0.957489\n",
      "4666               cup-in-glass   0.943067\n",
      "12946            plane-has-nose   0.933713\n",
      "19337       window-behind-child   0.925519\n",
      "4891               desk-has-leg   0.923503\n",
      "4772        curtain-behind-girl   0.922174\n",
      "7787          hand-holding-coat   0.922117\n",
      "7146          girl-riding-horse   0.912991\n",
      "3129           bus-behind-horse   0.911485\n",
      "5209          door-behind-child   0.910659\n",
      "2777           boy-riding-horse   0.905584\n",
      "19016         vegetable-in-bowl   0.901771\n",
      "11194     mountain-behind-woman   0.901466\n",
      "15625       sidewalk-under-face   0.901067\n",
      "11152       mountain-behind-cow   0.894293\n",
      "1083                bed-in-room   0.892868\n",
      "12939            plane-has-door   0.888168\n",
      "1811             boat-has-wheel   0.887122\n",
      "11154  mountain-behind-elephant   0.886597\n",
      "1678           board-behind-boy   0.882468\n",
      "12605             phone-in-hand   0.882160\n",
      "11158   mountain-behind-giraffe   0.881948\n",
      "12955           plane-has-wheel   0.881511\n",
      "2686             boy-has-finger   0.879398\n",
      "12940          plane-has-engine   0.878997\n",
      "4765         curtain-behind-cat   0.878699\n",
      "11153       mountain-behind-dog   0.878605\n",
      "11148       mountain-behind-boy   0.878406\n",
      "17676            toilet-in-room   0.876741\n",
      "12024           people-has-head   0.876691\n",
      "12957      plane-has-windshield   0.874328\n",
      "11166       mountain-behind-man   0.871813\n",
      "19826            woman-at-table   0.871186\n",
      "20237            zebra-has-nose   0.870998\n",
      "2692               boy-has-nose   0.870927\n",
      "13396            player-has-leg   0.870244\n",
      "11177     mountain-behind-sheep   0.869924\n",
      "6964           giraffe-has-nose   0.867029\n",
      "8809             horse-has-nose   0.866890\n",
      "16377            ski-under-roof   0.865170\n",
      "4443            counter-in-room   0.864687\n",
      "11171     mountain-behind-plane   0.864586\n",
      "18497           truck-has-plate   0.863510\n",
      "7044              girl-at-table   0.862338\n",
      "11162     mountain-behind-horse   0.861590\n",
      "8734            hill-behind-dog   0.861231\n",
      "11164      mountain-behind-kite   0.859287\n",
      "11172    mountain-behind-player   0.858883\n"
     ]
    },
    {
     "name": "stderr",
     "output_type": "stream",
     "text": [
      "\n"
     ]
    }
   ],
   "source": [
    "def triplets_ranking(output_scene_graphs):\n",
    "    triplets_score = []\n",
    "    for graph in tqdm(output_scene_graphs.values()):\n",
    "        for r in graph[0]['relations']:\n",
    "            rel = graph[0]['entities'][r[0]]+'-'+r[2]+'-'+graph[0]['entities'][r[1]]\n",
    "            triplets_score.append([rel, r[4]])\n",
    "    df = pd.DataFrame(triplets_score, columns =['Triplet', 'Rel_score'])\n",
    "    # average the dataframe by triplet\n",
    "    df = df.groupby('Triplet')['Rel_score'].mean().reset_index()\n",
    "    # sort the dataframe by score\n",
    "    df = df.sort_values(by=['Rel_score'], ascending=False)\n",
    "    # filter by triplet containing man or woman only\n",
    "    #df = df[df['Triplet'].str.contains('|'.join(obj_list))]\n",
    "    return df\n",
    "print(triplets_ranking(output_scene_graphs)[:50])"
   ]
  }
 ],
 "metadata": {
  "kernelspec": {
   "display_name": "phd",
   "language": "python",
   "name": "python3"
  },
  "language_info": {
   "codemirror_mode": {
    "name": "ipython",
    "version": 3
   },
   "file_extension": ".py",
   "mimetype": "text/x-python",
   "name": "python",
   "nbconvert_exporter": "python",
   "pygments_lexer": "ipython3",
   "version": "3.8.16"
  },
  "orig_nbformat": 4,
  "vscode": {
   "interpreter": {
    "hash": "7938123ceb831a528202b02dbdb8fd920084013224d6ffd4fcb9a5f6f5074515"
   }
  }
 },
 "nbformat": 4,
 "nbformat_minor": 2
}
