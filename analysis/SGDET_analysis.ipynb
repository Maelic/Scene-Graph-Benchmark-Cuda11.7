{
 "cells": [
  {
   "cell_type": "code",
   "execution_count": 2,
   "metadata": {},
   "outputs": [],
   "source": [
    "import torch\n",
    "import json\n",
    "import numpy as np\n",
    "import pandas as pd\n",
    "from tqdm import tqdm\n",
    "import os, h5py\n",
    "\n",
    "from utils import generate_detect_sg, generate_gt_sg\n",
    "from sgg_benchmark.config.paths_catalog import DatasetCatalog"
   ]
  },
  {
   "cell_type": "code",
   "execution_count": 3,
   "metadata": {},
   "outputs": [],
   "source": [
    "file_path = '/home/maelic/Documents/PhD/Datasets/GQA/sceneGraphs/train_sceneGraphs.json'\n",
    "gqa = json.load(open(file_path, 'r'))\n"
   ]
  },
  {
   "cell_type": "code",
   "execution_count": 6,
   "metadata": {},
   "outputs": [
    {
     "name": "stdout",
     "output_type": "stream",
     "text": [
      "{'width': 375, 'objects': {'1284217': {'name': 'tie', 'h': 78, 'relations': [], 'w': 68, 'attributes': ['patterned', 'gold'], 'y': 422, 'x': 183}, '1284223': {'name': 'man', 'h': 474, 'relations': [{'object': '1284224', 'name': 'wearing'}, {'object': '1284220', 'name': 'wearing'}], 'w': 374, 'attributes': ['smiling', 'happy'], 'y': 24, 'x': 1}, '3844336': {'name': 'picture', 'h': 160, 'relations': [{'object': '1284222', 'name': 'on'}, {'object': '1284224', 'name': 'to the left of'}, {'object': '1284225', 'name': 'to the left of'}, {'object': '1284242', 'name': 'to the left of'}, {'object': '1284230', 'name': 'to the left of'}], 'w': 113, 'attributes': [], 'y': 53, 'x': 0}, '1284242': {'name': 'face', 'h': 244, 'relations': [{'object': '1284220', 'name': 'to the right of'}, {'object': '1284240', 'name': 'to the right of'}, {'object': '3844336', 'name': 'to the right of'}, {'object': '1284235', 'name': 'to the right of'}], 'w': 175, 'attributes': [], 'y': 107, 'x': 114}, '1284219': {'name': 'collar', 'h': 172, 'relations': [], 'w': 177, 'attributes': ['light blue'], 'y': 319, 'x': 107}, '1284225': {'name': 'hair', 'h': 240, 'relations': [{'object': '3844336', 'name': 'to the right of'}], 'w': 259, 'attributes': ['dark'], 'y': 8, 'x': 75}, '1284220': {'name': 'earring', 'h': 11, 'relations': [{'object': '1284242', 'name': 'to the left of'}], 'w': 11, 'attributes': ['black'], 'y': 267, 'x': 106}, '1284240': {'name': 'ear', 'h': 81, 'relations': [{'object': '1284220', 'name': 'wearing'}, {'object': '1284230', 'name': 'to the left of'}, {'object': '1284224', 'name': 'to the left of'}, {'object': '1284242', 'name': 'to the left of'}, {'object': '1284243', 'name': 'to the left of'}], 'w': 35, 'attributes': [], 'y': 195, 'x': 86}, '1284233': {'name': 'shirt', 'h': 184, 'relations': [], 'w': 373, 'attributes': ['blue'], 'y': 315, 'x': 1}, '1284222': {'name': 'wall', 'h': 398, 'relations': [], 'w': 373, 'attributes': [], 'y': 2, 'x': 2}, '1284230': {'name': 'eyes', 'h': 14, 'relations': [{'object': '1284240', 'name': 'to the right of'}, {'object': '3844336', 'name': 'to the right of'}], 'w': 40, 'attributes': ['blue'], 'y': 200, 'x': 145}, '1284224': {'name': 'glasses', 'h': 44, 'relations': [{'object': '1284240', 'name': 'to the right of'}, {'object': '3844336', 'name': 'to the right of'}], 'w': 187, 'attributes': [], 'y': 187, 'x': 114}, '1284236': {'name': 'earring', 'h': 23, 'relations': [{'object': '1284243', 'name': 'to the right of'}], 'w': 12, 'attributes': ['black'], 'y': 256, 'x': 282}, '1284235': {'name': 'butterfly', 'h': 30, 'relations': [{'object': '1284242', 'name': 'to the left of'}], 'w': 44, 'attributes': ['orange'], 'y': 279, 'x': 20}, '1284243': {'name': 'nose', 'h': 64, 'relations': [{'object': '1284240', 'name': 'to the right of'}, {'object': '1284236', 'name': 'to the left of'}], 'w': 57, 'attributes': [], 'y': 207, 'x': 182}}, 'height': 500}\n"
     ]
    }
   ],
   "source": [
    "print(gqa['2386622'])"
   ]
  },
  {
   "attachments": {},
   "cell_type": "markdown",
   "metadata": {},
   "source": [
    "# Run Evaluation for test or train split"
   ]
  },
  {
   "cell_type": "code",
   "execution_count": 2,
   "metadata": {},
   "outputs": [],
   "source": [
    "BASE_PATH=\"/home/maelic/Documents/Scene-Graph-Benchmark-Cuda11.7/\"\n",
    "SGDET_DIR=BASE_PATH+\"checkpoints/VG150/baseline/upload_causal_motif_sgdet\"\n",
    "FASTER_RCNN_DIR=BASE_PATH+\"checkpoints/VG150/curated/pretrained_faster_rcnn/model_final.pth\"\n",
    "GLOVE_DIR=\"/home/maelic/glove\"\n",
    "EVAL_TYPE=\"test\"\n",
    "CONFIG=\"configs/VG150/curated/e2e_relation_X_101_32_8_FPN_1x.yaml\"\n",
    "DATASET=\"VG_stanford_filtered_with_attribute\"\n",
    "TASK=\"sgdet\""
   ]
  },
  {
   "cell_type": "code",
   "execution_count": 39,
   "metadata": {},
   "outputs": [],
   "source": [
    "stats = json.load(open('/home/maelic/Documents/PhD/MyModel/Scene-Graph-Benchmark-Cuda11.7/analysis/sg_statistics.json'))"
   ]
  },
  {
   "cell_type": "code",
   "execution_count": null,
   "metadata": {},
   "outputs": [],
   "source": [
    "#!cd .. && pwd && CUDA_VISIBLE_DEVICES=0 python tools/relation_test_net.py --config-file $CONFIG --task  --verbose MODEL.ROI_RELATION_HEAD.PREDICTOR CausalAnalysisPredictor MODEL.ROI_RELATION_HEAD.CAUSAL.EFFECT_TYPE TDE MODEL.ROI_RELATION_HEAD.CAUSAL.FUSION_TYPE sum MODEL.ROI_RELATION_HEAD.CAUSAL.CONTEXT_LAYER motifs  SOLVER.IMS_PER_BATCH 32 TEST.IMS_PER_BATCH 1 DTYPE \"float16\" SOLVER.MAX_ITER 30000 SOLVER.VAL_PERIOD 2000 SOLVER.CHECKPOINT_PERIOD 2000 SOLVER.PRE_VAL False GLOVE_DIR $GLOVE_DIR MODEL.PRETRAINED_DETECTOR_CKPT $FASTER_RCNN_DIR OUTPUT_DIR $SGDET_DIR DATASETS.TO_TEST $EVAL_TYPE"
   ]
  },
  {
   "cell_type": "code",
   "execution_count": 2,
   "metadata": {},
   "outputs": [
    {
     "name": "stdout",
     "output_type": "stream",
     "text": [
      "python: can't open file 'tools/relation_test_net.py': [Errno 2] No such file or directory\n"
     ]
    }
   ],
   "source": [
    "!CUDA_VISIBLE_DEVICES=0 python tools/relation_test_net.py --config-file \"configs/VG150/curated/e2e_relation_X_101_32_8_FPN_1x.yaml\" --task \"sgdet\" --verbose MODEL.ROI_RELATION_HEAD.PREDICTOR CausalAnalysisPredictor MODEL.ROI_RELATION_HEAD.CAUSAL.EFFECT_TYPE TDE MODEL.ROI_RELATION_HEAD.CAUSAL.FUSION_TYPE sum MODEL.ROI_RELATION_HEAD.CAUSAL.CONTEXT_LAYER vctree SOLVER.IMS_PER_BATCH 32 TEST.IMS_PER_BATCH 12 DTYPE \"float16\" SOLVER.MAX_ITER 30000 SOLVER.VAL_PERIOD 2000 SOLVER.CHECKPOINT_PERIOD 2000 SOLVER.PRE_VAL False GLOVE_DIR /home/maelic/glove MODEL.PRETRAINED_DETECTOR_CKPT /home/maelic/Documents/Scene-Graph-Benchmark-Cuda11.7/checkpoints/VG150/curated/pretrained_faster_rcnn/model_final.pth OUTPUT_DIR /home/maelic/Documents/Scene-Graph-Benchmark-Cuda11.7/checkpoints/VG150/curated/sgdet_vctree_tde DATASETS.TO_TEST train"
   ]
  },
  {
   "cell_type": "code",
   "execution_count": 3,
   "metadata": {},
   "outputs": [],
   "source": [
    "result_path = SGDET_DIR + '/inference/' + DATASET +'_' + EVAL_TYPE + '/' \n",
    "info_dict = json.load(open(result_path + 'visual_info.json'))\n",
    "detected_result = torch.load(result_path+'eval_results.pytorch')\n",
    "result_dict = torch.load(result_path + 'result_dict.pytorch')\n",
    "vg_dict = json.load(open(DatasetCatalog.DATASETS[DATASET]['dict_file']))\n",
    "vg_data = h5py.File(DatasetCatalog.DATASETS[DATASET]['roidb_file'], 'r')"
   ]
  },
  {
   "cell_type": "code",
   "execution_count": 58,
   "metadata": {},
   "outputs": [
    {
     "name": "stderr",
     "output_type": "stream",
     "text": [
      "Generating scene graphs :   1%|          | 37/5001 [00:02<05:06, 16.21it/s]\n"
     ]
    },
    {
     "ename": "KeyboardInterrupt",
     "evalue": "",
     "output_type": "error",
     "traceback": [
      "\u001b[0;31m---------------------------------------------------------------------------\u001b[0m",
      "\u001b[0;31mKeyboardInterrupt\u001b[0m                         Traceback (most recent call last)",
      "Cell \u001b[0;32mIn[58], line 1\u001b[0m\n\u001b[0;32m----> 1\u001b[0m output_scene_graphs \u001b[39m=\u001b[39m generate_detect_sg(detected_result, info_dict, vg_dict, \u001b[39m0.5\u001b[39;49m)\n\u001b[1;32m      2\u001b[0m pred \u001b[39m=\u001b[39m [\u001b[39mlen\u001b[39m(pred[\u001b[39m0\u001b[39m][\u001b[39m'\u001b[39m\u001b[39mrelations\u001b[39m\u001b[39m'\u001b[39m]) \u001b[39mfor\u001b[39;00m i, pred \u001b[39min\u001b[39;00m \u001b[39menumerate\u001b[39m(output_scene_graphs\u001b[39m.\u001b[39mvalues())]\n\u001b[1;32m      3\u001b[0m \u001b[39mprint\u001b[39m(\u001b[39m\"\u001b[39m\u001b[39mNumber of total relations predicted: \u001b[39m\u001b[39m\"\u001b[39m, \u001b[39msum\u001b[39m(pred))\n",
      "File \u001b[0;32m~/Documents/PhD/MyModel/Scene-Graph-Benchmark-Cuda11.7/analysis/utils.py:37\u001b[0m, in \u001b[0;36mgenerate_detect_sg\u001b[0;34m(det_result, det_info, vg_dict, obj_thres)\u001b[0m\n\u001b[1;32m     35\u001b[0m \u001b[39mfor\u001b[39;00m k \u001b[39min\u001b[39;00m \u001b[39mrange\u001b[39m(num_rel):\n\u001b[1;32m     36\u001b[0m     \u001b[39mif\u001b[39;00m rel_mask[k]:\n\u001b[0;32m---> 37\u001b[0m         rel_matrix[\u001b[39mint\u001b[39m(all_rel_pairs[k, \u001b[39m0\u001b[39m]), \u001b[39mint\u001b[39m(all_rel_pairs[k, \u001b[39m1\u001b[39m])], triplet_scores_matrix[\u001b[39mint\u001b[39m(all_rel_pairs[k, \u001b[39m0\u001b[39m]), \u001b[39mint\u001b[39m(all_rel_pairs[k, \u001b[39m1\u001b[39m])] \u001b[39m=\u001b[39m all_rel_labels[k], triplet_score[k]\n\u001b[1;32m     38\u001b[0m rel_matrix \u001b[39m=\u001b[39m rel_matrix[obj_mask][:, obj_mask]\u001b[39m.\u001b[39mlong()\n\u001b[1;32m     39\u001b[0m triplet_scores_matrix \u001b[39m=\u001b[39m triplet_scores_matrix[obj_mask][:, obj_mask]\u001b[39m.\u001b[39mfloat()\n",
      "\u001b[0;31mKeyboardInterrupt\u001b[0m: "
     ]
    }
   ],
   "source": [
    "output_scene_graphs = generate_detect_sg(detected_result, info_dict, vg_dict, 0.5)\n",
    "pred = [len(pred[0]['relations']) for i, pred in enumerate(output_scene_graphs.values())]\n",
    "print(\"Number of total relations predicted: \", sum(pred))"
   ]
  },
  {
   "cell_type": "code",
   "execution_count": 38,
   "metadata": {},
   "outputs": [
    {
     "name": "stdout",
     "output_type": "stream",
     "text": [
      "7885\n"
     ]
    }
   ],
   "source": [
    "pred = [len(pred[0]['relations']) for i, pred in enumerate(output_scene_graphs.values())]\n",
    "print(sum(pred))"
   ]
  },
  {
   "cell_type": "code",
   "execution_count": 51,
   "metadata": {},
   "outputs": [
    {
     "name": "stderr",
     "output_type": "stream",
     "text": [
      "100%|██████████| 5001/5001 [00:00<00:00, 42554.42it/s]"
     ]
    },
    {
     "name": "stdout",
     "output_type": "stream",
     "text": [
      "3765\n",
      "5001\n"
     ]
    },
    {
     "name": "stderr",
     "output_type": "stream",
     "text": [
      "\n"
     ]
    }
   ],
   "source": [
    "input_scene_graphs = generate_gt_sg(vg_data, vg_dict, info_dict)\n",
    "print(len(input_scene_graphs))\n",
    "print(len([os.path.basename(img['img_file']).strip('.jpg') for img in info_dict]))"
   ]
  },
  {
   "attachments": {},
   "cell_type": "markdown",
   "metadata": {},
   "source": [
    "## Compute frequency"
   ]
  },
  {
   "cell_type": "code",
   "execution_count": 43,
   "metadata": {},
   "outputs": [
    {
     "name": "stdout",
     "output_type": "stream",
     "text": [
      "Ranking of triplets in the input scene graphs\n"
     ]
    },
    {
     "name": "stderr",
     "output_type": "stream",
     "text": [
      "100%|██████████| 3765/3765 [00:00<00:00, 369488.16it/s]"
     ]
    },
    {
     "name": "stdout",
     "output_type": "stream",
     "text": [
      "Total number of triplets in the input scene graphs:  25259\n"
     ]
    },
    {
     "name": "stderr",
     "output_type": "stream",
     "text": [
      "\n"
     ]
    }
   ],
   "source": [
    "def gt_triplets(input_scene_graphs):\n",
    "    triplets = []\n",
    "    for graph in tqdm(input_scene_graphs.values()):\n",
    "        for r in graph[0]['relations']:\n",
    "            rel = graph[0]['entities'][r[0]]+'-'+vg_dict['idx_to_predicate'][str(r[2])]+'-'+graph[0]['entities'][r[1]]\n",
    "            triplets.append(rel)\n",
    "    df = pd.DataFrame(triplets, columns =['Triplet'])\n",
    "    # count triplet occurences\n",
    "    df = df.groupby('Triplet').size().reset_index(name='Count')\n",
    "    # sort by count\n",
    "    df = df.sort_values(by=['Count'], ascending=False)\n",
    "    return df\n",
    "print(\"Ranking of triplets in the input scene graphs\")\n",
    "out = gt_triplets(input_scene_graphs)\n",
    "out.head(10)\n",
    "# total number of triplets\n",
    "print(\"Total number of triplets in the input scene graphs: \", out['Count'].sum())"
   ]
  },
  {
   "cell_type": "code",
   "execution_count": 57,
   "metadata": {},
   "outputs": [
    {
     "name": "stdout",
     "output_type": "stream",
     "text": [
      "Ranking of triplets in the input scene graphs\n",
      "Total number of triplets in the input scene graphs:  7885\n"
     ]
    },
    {
     "name": "stderr",
     "output_type": "stream",
     "text": [
      "100%|██████████| 5001/5001 [00:00<00:00, 2048609.66it/s]\n"
     ]
    },
    {
     "data": {
      "text/html": [
       "<div>\n",
       "<style scoped>\n",
       "    .dataframe tbody tr th:only-of-type {\n",
       "        vertical-align: middle;\n",
       "    }\n",
       "\n",
       "    .dataframe tbody tr th {\n",
       "        vertical-align: top;\n",
       "    }\n",
       "\n",
       "    .dataframe thead th {\n",
       "        text-align: right;\n",
       "    }\n",
       "</style>\n",
       "<table border=\"1\" class=\"dataframe\">\n",
       "  <thead>\n",
       "    <tr style=\"text-align: right;\">\n",
       "      <th></th>\n",
       "      <th>Triplet</th>\n",
       "      <th>Count</th>\n",
       "    </tr>\n",
       "  </thead>\n",
       "  <tbody>\n",
       "    <tr>\n",
       "      <th>0</th>\n",
       "      <td>bed-has-pillow</td>\n",
       "      <td>3</td>\n",
       "    </tr>\n",
       "    <tr>\n",
       "      <th>41</th>\n",
       "      <td>sink-near-toilet</td>\n",
       "      <td>3</td>\n",
       "    </tr>\n",
       "    <tr>\n",
       "      <th>33</th>\n",
       "      <td>pillow-laying on-bed</td>\n",
       "      <td>3</td>\n",
       "    </tr>\n",
       "    <tr>\n",
       "      <th>25</th>\n",
       "      <td>horse-has-tail</td>\n",
       "      <td>3</td>\n",
       "    </tr>\n",
       "    <tr>\n",
       "      <th>49</th>\n",
       "      <td>toilet-near-sink</td>\n",
       "      <td>3</td>\n",
       "    </tr>\n",
       "    <tr>\n",
       "      <th>46</th>\n",
       "      <td>tail-of-horse</td>\n",
       "      <td>3</td>\n",
       "    </tr>\n",
       "    <tr>\n",
       "      <th>13</th>\n",
       "      <td>bus-in front of-bus</td>\n",
       "      <td>3</td>\n",
       "    </tr>\n",
       "    <tr>\n",
       "      <th>34</th>\n",
       "      <td>pillow-near-pillow</td>\n",
       "      <td>2</td>\n",
       "    </tr>\n",
       "    <tr>\n",
       "      <th>35</th>\n",
       "      <td>pizza-above-pizza</td>\n",
       "      <td>2</td>\n",
       "    </tr>\n",
       "    <tr>\n",
       "      <th>37</th>\n",
       "      <td>pizza-looking at-pizza</td>\n",
       "      <td>2</td>\n",
       "    </tr>\n",
       "  </tbody>\n",
       "</table>\n",
       "</div>"
      ],
      "text/plain": [
       "                   Triplet  Count\n",
       "0           bed-has-pillow      3\n",
       "41        sink-near-toilet      3\n",
       "33    pillow-laying on-bed      3\n",
       "25          horse-has-tail      3\n",
       "49        toilet-near-sink      3\n",
       "46           tail-of-horse      3\n",
       "13     bus-in front of-bus      3\n",
       "34      pillow-near-pillow      2\n",
       "35       pizza-above-pizza      2\n",
       "37  pizza-looking at-pizza      2"
      ]
     },
     "execution_count": 57,
     "metadata": {},
     "output_type": "execute_result"
    }
   ],
   "source": [
    "def pred_triplets(output_scene_graphs):\n",
    "    triplets = []\n",
    "    for graph in tqdm(output_scene_graphs.values()):\n",
    "        for r in graph[0]['relations']:\n",
    "            rel = graph[0]['entities'][r[0]]+'-'+r[2]+'-'+graph[0]['entities'][r[1]]\n",
    "            triplets.append(rel)\n",
    "    df = pd.DataFrame(triplets, columns =['Triplet'])\n",
    "    # count triplet occurences\n",
    "    df = df.groupby('Triplet').size().reset_index(name='Count')\n",
    "    # sort by count\n",
    "    df = df.sort_values(by=['Count'], ascending=False)\n",
    "    return df\n",
    "print(\"Ranking of triplets in the input scene graphs\")\n",
    "print(\"Total number of triplets in the input scene graphs: \", out['Count'].sum())\n",
    "out = pred_triplets(output_scene_graphs)\n",
    "out.head(10)\n"
   ]
  },
  {
   "attachments": {},
   "cell_type": "markdown",
   "metadata": {},
   "source": [
    "## Compute average triplets score"
   ]
  },
  {
   "cell_type": "code",
   "execution_count": 6,
   "metadata": {},
   "outputs": [
    {
     "name": "stderr",
     "output_type": "stream",
     "text": [
      "100%|██████████| 5001/5001 [00:00<00:00, 19759.96it/s]"
     ]
    },
    {
     "name": "stdout",
     "output_type": "stream",
     "text": [
      "                       Triplet     Score\n",
      "5395       person-wearing-boot  0.514324\n",
      "5336       person-riding-horse  0.474065\n",
      "4518              man-at-table  0.440927\n",
      "8625        woman-riding-horse  0.425111\n",
      "4550              man-has-neck  0.421535\n",
      "8504            woman-at-table  0.403960\n",
      "8631         woman-riding-wave  0.396908\n",
      "8121           vase-behind-man  0.388316\n",
      "5276       person-eating-pizza  0.385893\n",
      "4709           man-riding-wave  0.383368\n",
      "4551              man-has-nose  0.378898\n",
      "5272           person-at-table  0.375230\n",
      "4904       mountain-behind-man  0.374231\n",
      "4541               man-has-eye  0.373814\n",
      "4542              man-has-face  0.371121\n",
      "4540               man-has-ear  0.369671\n",
      "837            book-behind-man  0.368405\n",
      "4534          man-eating-pizza  0.365307\n",
      "4838           man-wearing-tie  0.361336\n",
      "4968               neck-of-man  0.358339\n",
      "1485        cabinet-behind-man  0.357171\n",
      "8535         woman-holding-cup  0.353903\n",
      "8644    woman-sitting on-towel  0.351381\n",
      "8518             woman-has-arm  0.350205\n",
      "4556        man-holding-banana  0.346654\n",
      "4913     mountain-behind-woman  0.345853\n",
      "4820         man-wearing-glass  0.344802\n",
      "4699          man-riding-horse  0.344226\n",
      "5298      person-holding-phone  0.342593\n",
      "2385         door-behind-woman  0.339872\n",
      "1365     building-behind-woman  0.339356\n",
      "5540  pizza-in front of-person  0.338797\n",
      "781            board-under-man  0.334217\n",
      "1340       building-behind-man  0.323814\n",
      "3041   fork-in front of-person  0.321971\n",
      "4558          man-holding-bear  0.321664\n",
      "8547      woman-holding-racket  0.319149\n",
      "327            beach-under-man  0.314674\n",
      "4777          man-watching-cat  0.314565\n",
      "1427          bus-behind-woman  0.314350\n",
      "4771         man-watching-bear  0.313528\n",
      "5338  person-riding-skateboard  0.311350\n",
      "8704        woman-wearing-boot  0.310842\n",
      "8169           vase-with-woman  0.310270\n",
      "2801        fence-behind-woman  0.310146\n",
      "4585        man-holding-racket  0.309949\n",
      "4816          man-wearing-boot  0.307837\n",
      "4835         man-wearing-short  0.307567\n",
      "4644    man-looking at-giraffe  0.307363\n",
      "8582    woman-looking at-clock  0.307208\n"
     ]
    },
    {
     "name": "stderr",
     "output_type": "stream",
     "text": [
      "\n"
     ]
    }
   ],
   "source": [
    "obj_list = ['man', 'woman', 'person']\n",
    "def triplets_ranking(output_scene_graphs):\n",
    "    triplets_score = []\n",
    "    for graph in tqdm(output_scene_graphs.values()):\n",
    "        for r in graph[0]['relations']:\n",
    "            rel = graph[0]['entities'][r[0]]+'-'+r[2]+'-'+graph[0]['entities'][r[1]]\n",
    "            triplets_score.append([rel, r[3]])\n",
    "    df = pd.DataFrame(triplets_score, columns =['Triplet', 'Score'])\n",
    "    # average the dataframe by triplet\n",
    "    df = df.groupby('Triplet')['Score'].mean().reset_index()\n",
    "    # sort the dataframe by score\n",
    "    df = df.sort_values(by=['Score'], ascending=False)\n",
    "    # filter by triplet containing man or woman only\n",
    "    df = df[df['Triplet'].str.contains('|'.join(obj_list))]\n",
    "    return df\n",
    "print(triplets_ranking(output_scene_graphs)[:50])\n"
   ]
  }
 ],
 "metadata": {
  "kernelspec": {
   "display_name": "phd",
   "language": "python",
   "name": "python3"
  },
  "language_info": {
   "codemirror_mode": {
    "name": "ipython",
    "version": 3
   },
   "file_extension": ".py",
   "mimetype": "text/x-python",
   "name": "python",
   "nbconvert_exporter": "python",
   "pygments_lexer": "ipython3",
   "version": "3.8.16"
  },
  "orig_nbformat": 4,
  "vscode": {
   "interpreter": {
    "hash": "7938123ceb831a528202b02dbdb8fd920084013224d6ffd4fcb9a5f6f5074515"
   }
  }
 },
 "nbformat": 4,
 "nbformat_minor": 2
}
