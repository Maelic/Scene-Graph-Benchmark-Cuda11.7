{
 "cells": [
  {
   "cell_type": "code",
   "execution_count": 1,
   "id": "0ab662ce",
   "metadata": {},
   "outputs": [],
   "source": [
    "import os\n",
    "import shutil\n",
    "import random\n",
    "import h5py\n",
    "import json\n",
    "from collections import Counter\n",
    "from tqdm import tqdm"
   ]
  },
  {
   "cell_type": "code",
   "execution_count": 2,
   "id": "24a175cf",
   "metadata": {},
   "outputs": [],
   "source": [
    "# indoor_vg = h5py.File(\"/home/maelic/Documents/PhD/MyModel/PhD_Commonsense_Enrichment/VG_refinement/data_tools/IndoorVG/final/VG-SGG.h5\")\n",
    "indoor_vg_dict = json.load(open(\"/home/maelic/Documents/PhD/MyModel/PhD_Commonsense_Enrichment/VG_refinement/data_tools/IndoorVG_4/VG-SGG-dicts.json\"))\n",
    "image_data = json.load(open('/home/maelic/Documents/Datasets/VG/anno/image_data.json'))\n",
    "objects = json.load(open(\"/home/maelic/Documents/PhD/MyModel/PhD_Commonsense_Enrichment/VG_refinement/data_tools/IndoorVG_4/objects.json\"))\n",
    "\n",
    "h5_file = h5py.File(\"/home/maelic/Documents/PhD/MyModel/PhD_Commonsense_Enrichment/VG_refinement/data_tools/IndoorVG_4/VG-SGG.h5\", \"r\")"
   ]
  },
  {
   "cell_type": "code",
   "execution_count": 3,
   "id": "3cee7bef",
   "metadata": {},
   "outputs": [],
   "source": [
    "object_to_idx = indoor_vg_dict['idx_to_label']\n",
    "\n",
    "with open('/home/maelic/Documents/PhD/MyModel/PhD_Commonsense_Enrichment/VG_refinement/data_tools/IndoorVG_4/YOLO_anno/classes.txt', 'w') as f:\n",
    "    for key,v in object_to_idx.items():\n",
    "        f.write(v + '\\n')"
   ]
  },
  {
   "cell_type": "code",
   "execution_count": 4,
   "id": "3789b4df",
   "metadata": {},
   "outputs": [
    {
     "name": "stderr",
     "output_type": "stream",
     "text": [
      "  0%|          | 0/108073 [00:00<?, ?it/s]"
     ]
    },
    {
     "name": "stderr",
     "output_type": "stream",
     "text": [
      "100%|██████████| 108073/108073 [01:08<00:00, 1585.33it/s]\n"
     ]
    }
   ],
   "source": [
    "object_to_idx = indoor_vg_dict['label_to_idx']\n",
    "dest_folder = '/home/maelic/Documents/PhD/MyModel/PhD_Commonsense_Enrichment/VG_refinement/data_tools/IndoorVG_4/YOLO_anno/labels'\n",
    "image_dest_folder = '/home/maelic/Documents/PhD/MyModel/PhD_Commonsense_Enrichment/VG_refinement/data_tools/IndoorVG_4/YOLO_anno/images'\n",
    "annotated_images = h5_file['split_rel']\n",
    "\n",
    "if not os.path.exists(dest_folder):\n",
    "    os.mkdir(dest_folder)\n",
    "\n",
    "if not os.path.exists(image_dest_folder):\n",
    "    os.mkdir(image_dest_folder)\n",
    "\n",
    "for idx, img in enumerate(tqdm(objects)):\n",
    "    if annotated_images[idx] == -1:\n",
    "        continue\n",
    "    img_width = image_data[idx]['width']\n",
    "    img_height = image_data[idx]['height']\n",
    "    image_id = image_data[idx]['image_id']\n",
    "    for obj in img['objects']:\n",
    "        obj_name = obj['name']\n",
    "        obj_x = obj['x']\n",
    "        obj_y = obj['y']\n",
    "        obj_width = obj['w']\n",
    "        obj_height = obj['h']\n",
    "        obj_cat = object_to_idx[obj_name]\n",
    "        # copy image to dest folder\n",
    "        shutil.copyfile('/home/maelic/Documents/Datasets/VG/VG_100K/'+str(image_id)+'.jpg', os.path.join(image_dest_folder, str(image_id)+'.jpg'))\n",
    "        with open(os.path.join(dest_folder, str(image_id) + '.txt'), 'a') as f:\n",
    "            xcenter = (obj_x + obj_width/2) / img_width\n",
    "            ycenter = (obj_y + obj_height/2) / img_height\n",
    "            w = obj_width / img_width\n",
    "            h = obj_height / img_height\n",
    "            obj_cat = obj_cat - 1\n",
    "            f.write(str(obj_cat) + ' ' + str(xcenter) + ' ' + str(ycenter) + ' ' + str(w) + ' ' + str(h)+'\\n')"
   ]
  },
  {
   "cell_type": "code",
   "execution_count": 6,
   "id": "f2247192",
   "metadata": {},
   "outputs": [],
   "source": [
    "from sklearn.model_selection import train_test_split\n",
    "\n",
    "base_path = '/home/maelic/Documents/PhD/MyModel/PhD_Commonsense_Enrichment/VG_refinement/data_tools/IndoorVG_4/YOLO_anno/'\n",
    "dest_folder = os.path.join(base_path,'labels')\n",
    "image_dest_folder = os.path.join(base_path,'images')\n",
    "\n",
    "images = [os.path.join(image_dest_folder, x) for x in os.listdir(image_dest_folder)]\n",
    "annotations = [os.path.join(dest_folder, x) for x in os.listdir(dest_folder) if x[-3:] == \"txt\"]\n",
    "\n",
    "images.sort()\n",
    "annotations.sort()\n",
    "train_images, val_images, train_annotations, val_annotations = train_test_split(images, annotations, test_size = 0.2, random_state = 1)\n",
    "# val_images, test_images, val_annotations, test_annotations = train_test_split(val_images, val_annotations, test_size = 0.5, random_state = 1)\n",
    "\n",
    "root_path = 'images/'\n",
    "folders = [base_path+'train',base_path+'val'] #,base_path+'test'\n",
    "for folder in folders:\n",
    "    os.makedirs(os.path.join(folder,root_path))\n",
    "    \n",
    "root_path = 'labels/'\n",
    "for folder in folders:\n",
    "    os.makedirs(os.path.join(folder,root_path))    \n",
    "\n",
    "def move_files_to_folder(list_of_files, destination_folder):\n",
    "    for f in list_of_files:\n",
    "        try:\n",
    "            shutil.move(f, destination_folder)\n",
    "        except:\n",
    "            print(f)\n",
    "            assert False\n",
    "\n",
    "move_files_to_folder(train_images, base_path+'train/images/')\n",
    "move_files_to_folder(val_images, base_path+'val/images/')\n",
    "# move_files_to_folder(test_images, base_path+'test/images/')\n",
    "move_files_to_folder(train_annotations, base_path+'train/labels/')\n",
    "move_files_to_folder(val_annotations, base_path+'val/labels/')\n",
    "# move_files_to_folder(test_annotations, base_path+'test/labels/')"
   ]
  },
  {
   "cell_type": "code",
   "execution_count": 7,
   "id": "0c103c02",
   "metadata": {},
   "outputs": [],
   "source": [
    "# write the yaml file\n",
    "classes = indoor_vg_dict['label_to_idx'].keys()\n",
    "\n",
    "train_path = base_path+'train/'\n",
    "val_path = base_path+'val/'\n",
    "# test_path = base_path+'/test/'\n",
    "\n",
    "n_classes = len(classes)\n",
    "\n",
    "with open(base_path+'/train.yaml', 'w') as f:\n",
    "    f.write('train: '+train_path+'\\n')\n",
    "    f.write('val: '+val_path+'\\n')\n",
    "    f.write('test: '+val_path+'\\n')\n",
    "    f.write('nc: '+str(n_classes)+'\\n')\n",
    "    f.write('names: '+str(list(classes)))"
   ]
  }
 ],
 "metadata": {
  "kernelspec": {
   "display_name": "Python 3",
   "language": "python",
   "name": "python3"
  },
  "language_info": {
   "codemirror_mode": {
    "name": "ipython",
    "version": 3
   },
   "file_extension": ".py",
   "mimetype": "text/x-python",
   "name": "python",
   "nbconvert_exporter": "python",
   "pygments_lexer": "ipython3",
   "version": "3.11.5"
  },
  "vscode": {
   "interpreter": {
    "hash": "916dbcbb3f70747c44a77c7bcd40155683ae19c65e1c03b4aa3499c5328201f1"
   }
  }
 },
 "nbformat": 4,
 "nbformat_minor": 5
}
