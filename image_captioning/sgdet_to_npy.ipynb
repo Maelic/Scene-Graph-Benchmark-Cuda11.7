{
 "cells": [
  {
   "cell_type": "code",
   "execution_count": 2,
   "metadata": {},
   "outputs": [],
   "source": [
    "import os\n",
    "import numpy as np\n",
    "\n",
    "sg_path = \"./coco_pred_sg\"\n",
    "sg_files = os.listdir(sg_path)\n",
    "\n",
    "sg_dict = {}\n",
    "for sg_file in sg_files:\n",
    "    file_path = os.path.join(sg_path, sg_file)\n",
    "    sg = np.load(file_path, encoding=\"latin1\", allow_pickle=True)[()]\n",
    "    sg_dict[sg_file.strip('.npy')] = sg\n"
   ]
  },
  {
   "cell_type": "code",
   "execution_count": 19,
   "metadata": {},
   "outputs": [
    {
     "name": "stdout",
     "output_type": "stream",
     "text": [
      "dict_keys(['rela_matrix', 'obj_attr'])\n",
      "9929\n",
      "10\n"
     ]
    }
   ],
   "source": [
    "print(sg_dict['137288'].keys())\n",
    "print(list(sg_dict.keys())[2])\n",
    "print(len(sg_dict['9929']['rela_matrix']))"
   ]
  }
 ],
 "metadata": {
  "kernelspec": {
   "display_name": "phd",
   "language": "python",
   "name": "python3"
  },
  "language_info": {
   "codemirror_mode": {
    "name": "ipython",
    "version": 3
   },
   "file_extension": ".py",
   "mimetype": "text/x-python",
   "name": "python",
   "nbconvert_exporter": "python",
   "pygments_lexer": "ipython3",
   "version": "3.8.16"
  },
  "orig_nbformat": 4,
  "vscode": {
   "interpreter": {
    "hash": "7938123ceb831a528202b02dbdb8fd920084013224d6ffd4fcb9a5f6f5074515"
   }
  }
 },
 "nbformat": 4,
 "nbformat_minor": 2
}
